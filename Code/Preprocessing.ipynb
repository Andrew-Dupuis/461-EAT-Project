{
 "cells": [
  {
   "cell_type": "code",
   "execution_count": 1,
   "metadata": {},
   "outputs": [
    {
     "name": "stdout",
     "output_type": "stream",
     "text": [
      "Requirement already satisfied: pydicom in /home/codespace/.local/lib/python3.8/site-packages (from -r requirements.txt (line 1)) (2.2.2)\n",
      "Requirement already satisfied: matplotlib in /home/codespace/.local/lib/python3.8/site-packages (from -r requirements.txt (line 2)) (3.5.1)\n",
      "Requirement already satisfied: numpy in /home/codespace/.local/lib/python3.8/site-packages (from -r requirements.txt (line 3)) (1.22.3)\n",
      "Requirement already satisfied: scikit-image in /home/codespace/.local/lib/python3.8/site-packages (from -r requirements.txt (line 4)) (0.19.2)\n",
      "Requirement already satisfied: Tensorflow in /home/codespace/.local/lib/python3.8/site-packages (from -r requirements.txt (line 5)) (2.8.0)\n",
      "Requirement already satisfied: fonttools>=4.22.0 in /home/codespace/.local/lib/python3.8/site-packages (from matplotlib->-r requirements.txt (line 2)) (4.31.1)\n",
      "Requirement already satisfied: packaging>=20.0 in /opt/python/3.8.12/lib/python3.8/site-packages (from matplotlib->-r requirements.txt (line 2)) (21.3)\n",
      "Requirement already satisfied: python-dateutil>=2.7 in /opt/python/3.8.12/lib/python3.8/site-packages (from matplotlib->-r requirements.txt (line 2)) (2.8.2)\n",
      "Requirement already satisfied: pillow>=6.2.0 in /home/codespace/.local/lib/python3.8/site-packages (from matplotlib->-r requirements.txt (line 2)) (9.0.1)\n",
      "Requirement already satisfied: cycler>=0.10 in /home/codespace/.local/lib/python3.8/site-packages (from matplotlib->-r requirements.txt (line 2)) (0.11.0)\n",
      "Requirement already satisfied: pyparsing>=2.2.1 in /opt/python/3.8.12/lib/python3.8/site-packages (from matplotlib->-r requirements.txt (line 2)) (3.0.7)\n",
      "Requirement already satisfied: kiwisolver>=1.0.1 in /home/codespace/.local/lib/python3.8/site-packages (from matplotlib->-r requirements.txt (line 2)) (1.4.0)\n",
      "Requirement already satisfied: imageio>=2.4.1 in /home/codespace/.local/lib/python3.8/site-packages (from scikit-image->-r requirements.txt (line 4)) (2.16.1)\n",
      "Requirement already satisfied: scipy>=1.4.1 in /home/codespace/.local/lib/python3.8/site-packages (from scikit-image->-r requirements.txt (line 4)) (1.8.0)\n",
      "Requirement already satisfied: networkx>=2.2 in /home/codespace/.local/lib/python3.8/site-packages (from scikit-image->-r requirements.txt (line 4)) (2.7.1)\n",
      "Requirement already satisfied: tifffile>=2019.7.26 in /home/codespace/.local/lib/python3.8/site-packages (from scikit-image->-r requirements.txt (line 4)) (2022.3.25)\n",
      "Requirement already satisfied: PyWavelets>=1.1.1 in /home/codespace/.local/lib/python3.8/site-packages (from scikit-image->-r requirements.txt (line 4)) (1.3.0)\n",
      "Requirement already satisfied: grpcio<2.0,>=1.24.3 in /home/codespace/.local/lib/python3.8/site-packages (from Tensorflow->-r requirements.txt (line 5)) (1.44.0)\n",
      "Requirement already satisfied: google-pasta>=0.1.1 in /home/codespace/.local/lib/python3.8/site-packages (from Tensorflow->-r requirements.txt (line 5)) (0.2.0)\n",
      "Requirement already satisfied: keras<2.9,>=2.8.0rc0 in /home/codespace/.local/lib/python3.8/site-packages (from Tensorflow->-r requirements.txt (line 5)) (2.8.0)\n",
      "Requirement already satisfied: opt-einsum>=2.3.2 in /home/codespace/.local/lib/python3.8/site-packages (from Tensorflow->-r requirements.txt (line 5)) (3.3.0)\n",
      "Requirement already satisfied: keras-preprocessing>=1.1.1 in /home/codespace/.local/lib/python3.8/site-packages (from Tensorflow->-r requirements.txt (line 5)) (1.1.2)\n",
      "Requirement already satisfied: six>=1.12.0 in /opt/python/3.8.12/lib/python3.8/site-packages (from Tensorflow->-r requirements.txt (line 5)) (1.16.0)\n",
      "Requirement already satisfied: protobuf>=3.9.2 in /home/codespace/.local/lib/python3.8/site-packages (from Tensorflow->-r requirements.txt (line 5)) (3.19.4)\n",
      "Requirement already satisfied: termcolor>=1.1.0 in /home/codespace/.local/lib/python3.8/site-packages (from Tensorflow->-r requirements.txt (line 5)) (1.1.0)\n",
      "Requirement already satisfied: h5py>=2.9.0 in /home/codespace/.local/lib/python3.8/site-packages (from Tensorflow->-r requirements.txt (line 5)) (3.6.0)\n",
      "Requirement already satisfied: tensorboard<2.9,>=2.8 in /home/codespace/.local/lib/python3.8/site-packages (from Tensorflow->-r requirements.txt (line 5)) (2.8.0)\n",
      "Requirement already satisfied: libclang>=9.0.1 in /home/codespace/.local/lib/python3.8/site-packages (from Tensorflow->-r requirements.txt (line 5)) (13.0.0)\n",
      "Requirement already satisfied: tensorflow-io-gcs-filesystem>=0.23.1 in /home/codespace/.local/lib/python3.8/site-packages (from Tensorflow->-r requirements.txt (line 5)) (0.24.0)\n",
      "Requirement already satisfied: wrapt>=1.11.0 in /home/codespace/.local/lib/python3.8/site-packages (from Tensorflow->-r requirements.txt (line 5)) (1.14.0)\n",
      "Requirement already satisfied: gast>=0.2.1 in /home/codespace/.local/lib/python3.8/site-packages (from Tensorflow->-r requirements.txt (line 5)) (0.5.3)\n",
      "Requirement already satisfied: astunparse>=1.6.0 in /home/codespace/.local/lib/python3.8/site-packages (from Tensorflow->-r requirements.txt (line 5)) (1.6.3)\n",
      "Requirement already satisfied: typing-extensions>=3.6.6 in /home/codespace/.local/lib/python3.8/site-packages (from Tensorflow->-r requirements.txt (line 5)) (4.1.1)\n",
      "Requirement already satisfied: tf-estimator-nightly==2.8.0.dev2021122109 in /home/codespace/.local/lib/python3.8/site-packages (from Tensorflow->-r requirements.txt (line 5)) (2.8.0.dev2021122109)\n",
      "Requirement already satisfied: absl-py>=0.4.0 in /home/codespace/.local/lib/python3.8/site-packages (from Tensorflow->-r requirements.txt (line 5)) (1.0.0)\n",
      "Requirement already satisfied: setuptools in /opt/python/3.8.12/lib/python3.8/site-packages (from Tensorflow->-r requirements.txt (line 5)) (58.2.0)\n",
      "Requirement already satisfied: flatbuffers>=1.12 in /home/codespace/.local/lib/python3.8/site-packages (from Tensorflow->-r requirements.txt (line 5)) (2.0)\n",
      "Requirement already satisfied: wheel<1.0,>=0.23.0 in /opt/python/3.8.12/lib/python3.8/site-packages (from astunparse>=1.6.0->Tensorflow->-r requirements.txt (line 5)) (0.37.0)\n",
      "Requirement already satisfied: requests<3,>=2.21.0 in /opt/python/3.8.12/lib/python3.8/site-packages (from tensorboard<2.9,>=2.8->Tensorflow->-r requirements.txt (line 5)) (2.27.1)\n",
      "Requirement already satisfied: google-auth<3,>=1.6.3 in /home/codespace/.local/lib/python3.8/site-packages (from tensorboard<2.9,>=2.8->Tensorflow->-r requirements.txt (line 5)) (2.6.2)\n",
      "Requirement already satisfied: tensorboard-plugin-wit>=1.6.0 in /home/codespace/.local/lib/python3.8/site-packages (from tensorboard<2.9,>=2.8->Tensorflow->-r requirements.txt (line 5)) (1.8.1)\n",
      "Requirement already satisfied: tensorboard-data-server<0.7.0,>=0.6.0 in /home/codespace/.local/lib/python3.8/site-packages (from tensorboard<2.9,>=2.8->Tensorflow->-r requirements.txt (line 5)) (0.6.1)\n",
      "Requirement already satisfied: markdown>=2.6.8 in /home/codespace/.local/lib/python3.8/site-packages (from tensorboard<2.9,>=2.8->Tensorflow->-r requirements.txt (line 5)) (3.3.6)\n",
      "Requirement already satisfied: google-auth-oauthlib<0.5,>=0.4.1 in /home/codespace/.local/lib/python3.8/site-packages (from tensorboard<2.9,>=2.8->Tensorflow->-r requirements.txt (line 5)) (0.4.6)\n",
      "Requirement already satisfied: werkzeug>=0.11.15 in /home/codespace/.local/lib/python3.8/site-packages (from tensorboard<2.9,>=2.8->Tensorflow->-r requirements.txt (line 5)) (2.1.0)\n",
      "Requirement already satisfied: pyasn1-modules>=0.2.1 in /home/codespace/.local/lib/python3.8/site-packages (from google-auth<3,>=1.6.3->tensorboard<2.9,>=2.8->Tensorflow->-r requirements.txt (line 5)) (0.2.8)\n",
      "Requirement already satisfied: cachetools<6.0,>=2.0.0 in /home/codespace/.local/lib/python3.8/site-packages (from google-auth<3,>=1.6.3->tensorboard<2.9,>=2.8->Tensorflow->-r requirements.txt (line 5)) (5.0.0)\n",
      "Requirement already satisfied: rsa<5,>=3.1.4 in /home/codespace/.local/lib/python3.8/site-packages (from google-auth<3,>=1.6.3->tensorboard<2.9,>=2.8->Tensorflow->-r requirements.txt (line 5)) (4.8)\n",
      "Requirement already satisfied: requests-oauthlib>=0.7.0 in /home/codespace/.local/lib/python3.8/site-packages (from google-auth-oauthlib<0.5,>=0.4.1->tensorboard<2.9,>=2.8->Tensorflow->-r requirements.txt (line 5)) (1.3.1)\n",
      "Requirement already satisfied: importlib-metadata>=4.4 in /home/codespace/.local/lib/python3.8/site-packages (from markdown>=2.6.8->tensorboard<2.9,>=2.8->Tensorflow->-r requirements.txt (line 5)) (4.11.3)\n",
      "Requirement already satisfied: certifi>=2017.4.17 in /opt/python/3.8.12/lib/python3.8/site-packages (from requests<3,>=2.21.0->tensorboard<2.9,>=2.8->Tensorflow->-r requirements.txt (line 5)) (2021.10.8)\n",
      "Requirement already satisfied: idna<4,>=2.5 in /opt/python/3.8.12/lib/python3.8/site-packages (from requests<3,>=2.21.0->tensorboard<2.9,>=2.8->Tensorflow->-r requirements.txt (line 5)) (3.3)\n",
      "Requirement already satisfied: charset-normalizer~=2.0.0 in /opt/python/3.8.12/lib/python3.8/site-packages (from requests<3,>=2.21.0->tensorboard<2.9,>=2.8->Tensorflow->-r requirements.txt (line 5)) (2.0.12)\n",
      "Requirement already satisfied: urllib3<1.27,>=1.21.1 in /opt/python/3.8.12/lib/python3.8/site-packages (from requests<3,>=2.21.0->tensorboard<2.9,>=2.8->Tensorflow->-r requirements.txt (line 5)) (1.26.9)\n",
      "Requirement already satisfied: zipp>=0.5 in /opt/python/3.8.12/lib/python3.8/site-packages (from importlib-metadata>=4.4->markdown>=2.6.8->tensorboard<2.9,>=2.8->Tensorflow->-r requirements.txt (line 5)) (3.7.0)\n",
      "Requirement already satisfied: pyasn1<0.5.0,>=0.4.6 in /home/codespace/.local/lib/python3.8/site-packages (from pyasn1-modules>=0.2.1->google-auth<3,>=1.6.3->tensorboard<2.9,>=2.8->Tensorflow->-r requirements.txt (line 5)) (0.4.8)\n",
      "Requirement already satisfied: oauthlib>=3.0.0 in /home/codespace/.local/lib/python3.8/site-packages (from requests-oauthlib>=0.7.0->google-auth-oauthlib<0.5,>=0.4.1->tensorboard<2.9,>=2.8->Tensorflow->-r requirements.txt (line 5)) (3.2.0)\n",
      "\u001b[33mWARNING: You are using pip version 22.0.3; however, version 22.0.4 is available.\n",
      "You should consider upgrading via the '/opt/python/latest/bin/python -m pip install --upgrade pip' command.\u001b[0m\u001b[33m\n",
      "\u001b[0m"
     ]
    }
   ],
   "source": [
    "import sys\n",
    "!{sys.executable} -m pip install -r requirements.txt\n",
    "import pydicom\n",
    "import matplotlib.pylab as plt\n",
    "import matplotlib\n",
    "import os\n",
    "import numpy as np\n",
    "from PIL import Image\n",
    "import time\n"
   ]
  },
  {
   "cell_type": "markdown",
   "metadata": {},
   "source": [
    "Configure Global Variables\n",
    "----"
   ]
  },
  {
   "cell_type": "code",
   "execution_count": 2,
   "metadata": {},
   "outputs": [],
   "source": [
    "window = 350 # Window/Level from Hoori et al (\"HU-attention-window with a window/level of 350/40 HU\")\n",
    "level = 40\n",
    "bitDepth = 8 # Must be 8 for uint8 PNGs. Explore floating point\n",
    "TrainingDataRootDir = '../Training Data'\n",
    "TestDataRootDir = '../Test Data'"
   ]
  },
  {
   "cell_type": "markdown",
   "metadata": {},
   "source": [
    "Preprocess Training Data\n",
    "----"
   ]
  },
  {
   "cell_type": "code",
   "execution_count": 3,
   "metadata": {},
   "outputs": [
    {
     "name": "stdout",
     "output_type": "stream",
     "text": [
      "../Training Data/CA003\n",
      "../Training Data/CA002\n"
     ]
    }
   ],
   "source": [
    "CombinedTrainingImageDir = TrainingDataRootDir + '/AllImages'\n",
    "CombinedTrainingMaskDir = TrainingDataRootDir + '/AllMasks'\n",
    "os.makedirs(CombinedTrainingImageDir, exist_ok=True)\n",
    "os.makedirs(CombinedTrainingMaskDir, exist_ok=True)\n",
    "\n",
    "currentImageIndex = 0\n",
    "subjects = os.listdir(TrainingDataRootDir)\n",
    "for subject in subjects:\n",
    "    if not (subject == 'AllImages' or subject == 'AllMasks'):\n",
    "        currentSubjectDir = TrainingDataRootDir + \"/\" + subject;\n",
    "        print(currentSubjectDir)\n",
    "\n",
    "        volume_dicoms = os.listdir(currentSubjectDir + '/Dicom/Vol/')\n",
    "        dataset_vol = [None] * (len(volume_dicoms))\n",
    "        for dicom in volume_dicoms:\n",
    "            slice_number = int(dicom.split('Slice')[1].split('.dcm')[0])\n",
    "            dataset_vol[slice_number-1] = pydicom.dcmread(currentSubjectDir+'/Dicom/Vol/'+dicom)\n",
    "        \n",
    "        sac_dicoms = os.listdir(currentSubjectDir + '/Dicom/Sac/')\n",
    "        dataset_sac = [None] * (len(sac_dicoms))\n",
    "        for dicom in sac_dicoms:\n",
    "            slice_number = int(dicom.split('Slice')[1].split('.dcm')[0])\n",
    "            dataset_sac[slice_number-1] = pydicom.dcmread(currentSubjectDir+'/Dicom/Sac/'+dicom)\n",
    "\n",
    "        for i in range(1, len(dataset_vol)-1):\n",
    "            sliceRGB = np.zeros((dataset_vol[i].pixel_array.shape[0],dataset_vol[i].pixel_array.shape[1],3))\n",
    "            sliceRGB[:,:,0] = dataset_vol[i-1].pixel_array\n",
    "            sliceRGB[:,:,1] = dataset_vol[i].pixel_array\n",
    "            sliceRGB[:,:,2] = dataset_vol[i+1].pixel_array\n",
    "            sliceRGB = np.clip((sliceRGB - (level-window/2)) / window, 0,1) # Apply window/level and clip to 0->1 range\n",
    "            sliceRGB = sliceRGB * ((2**bitDepth)-1) # Scale to bitdepth\n",
    "            sliceRGB = np.floor(sliceRGB) # Floor to integer\n",
    "            imageFilename = CombinedTrainingImageDir + \"/\" + str(currentImageIndex)+'.png'\n",
    "            matplotlib.image.imsave(imageFilename, sliceRGB.astype(np.uint8))\n",
    "\n",
    "            sliceMask = np.zeros((dataset_vol[i].pixel_array.shape[0],dataset_vol[i].pixel_array.shape[1],3))\n",
    "            sliceMask[:,:,0] = dataset_sac[i].pixel_array\n",
    "            sliceMask[:,:,1] = dataset_sac[i].pixel_array\n",
    "            sliceMask[:,:,2] = dataset_sac[i].pixel_array\n",
    "            sliceMask = sliceMask * ((2**bitDepth)-1) # Scale to bitdepth\n",
    "            maskFilename = CombinedTrainingMaskDir + \"/\" + str(currentImageIndex)+'.png'\n",
    "            matplotlib.image.imsave(maskFilename, sliceMask.astype(np.uint8))\n",
    "\n",
    "            currentImageIndex = currentImageIndex + 1"
   ]
  },
  {
   "cell_type": "markdown",
   "metadata": {},
   "source": [
    "Preprocess Test Data\n",
    "----"
   ]
  },
  {
   "cell_type": "code",
   "execution_count": null,
   "metadata": {},
   "outputs": [],
   "source": [
    "CombinedTestImageDir = TestDataRootDir + '/AllImages'\n",
    "CombinedTestMaskDir = TestDataRootDir + '/AllMasks'\n",
    "os.makedirs(CombinedTestImageDir, exist_ok=True)\n",
    "os.makedirs(CombinedTestMaskDir, exist_ok=True)\n",
    "\n",
    "currentImageIndex = 0\n",
    "subjects = os.listdir(TestDataRootDir)\n",
    "for subject in subjects:\n",
    "    if not (subject == 'AllImages' or subject == 'AllMasks'):\n",
    "        currentSubjectDir = TestDataRootDir + \"/\" + subject;\n",
    "        print(currentSubjectDir)\n",
    "\n",
    "        volume_dicoms = os.listdir(currentSubjectDir + '/Dicom/Vol/')\n",
    "        dataset_vol = [None] * (len(volume_dicoms))\n",
    "        for dicom in volume_dicoms:\n",
    "            slice_number = int(dicom.split('Slice')[1].split('.dcm')[0])\n",
    "            dataset_vol[slice_number-1] = pydicom.dcmread(currentSubjectDir+'/Dicom/Vol/'+dicom)\n",
    "        \n",
    "        sac_dicoms = os.listdir(currentSubjectDir + '/Dicom/Sac/')\n",
    "        dataset_sac = [None] * (len(sac_dicoms))\n",
    "        for dicom in sac_dicoms:\n",
    "            slice_number = int(dicom.split('Slice')[1].split('.dcm')[0])\n",
    "            dataset_sac[slice_number-1] = pydicom.dcmread(currentSubjectDir+'/Dicom/Sac/'+dicom)\n",
    "\n",
    "        for i in range(1, len(dataset_vol)-1):\n",
    "            sliceRGB = np.zeros((dataset_vol[i].pixel_array.shape[0],dataset_vol[i].pixel_array.shape[1],3))\n",
    "            sliceRGB[:,:,0] = dataset_vol[i-1].pixel_array\n",
    "            sliceRGB[:,:,1] = dataset_vol[i].pixel_array\n",
    "            sliceRGB[:,:,2] = dataset_vol[i+1].pixel_array\n",
    "            sliceRGB = np.clip((sliceRGB - (level-window/2)) / window, 0,1) # Apply window/level and clip to 0->1 range\n",
    "            sliceRGB = sliceRGB * ((2**bitDepth)-1) # Scale to bitdepth\n",
    "            sliceRGB = np.floor(sliceRGB) # Floor to integer\n",
    "            imageFilename = CombinedTestImageDir + \"/\" + str(currentImageIndex)+'.png'\n",
    "            matplotlib.image.imsave(imageFilename, sliceRGB.astype(np.uint8))\n",
    "\n",
    "            sliceMask = np.zeros((dataset_vol[i].pixel_array.shape[0],dataset_vol[i].pixel_array.shape[1],3))\n",
    "            sliceMask[:,:,0] = dataset_sac[i].pixel_array\n",
    "            sliceMask[:,:,1] = dataset_sac[i].pixel_array\n",
    "            sliceMask[:,:,2] = dataset_sac[i].pixel_array\n",
    "            sliceMask = sliceMask * ((2**bitDepth)-1) # Scale to bitdepth\n",
    "            maskFilename = CombinedTestMaskDir + \"/\" + str(currentImageIndex)+'.png'\n",
    "            matplotlib.image.imsave(maskFilename, sliceMask.astype(np.uint8))\n",
    "\n",
    "            currentImageIndex = currentImageIndex + 1"
   ]
  }
 ],
 "metadata": {
  "interpreter": {
   "hash": "4f946df053fbf2b937619d3c5458e7af74262f9a954d8797ba0b27400bcafe06"
  },
  "kernelspec": {
   "display_name": "Python 3.8.12 64-bit",
   "language": "python",
   "name": "python3"
  },
  "language_info": {
   "codemirror_mode": {
    "name": "ipython",
    "version": 3
   },
   "file_extension": ".py",
   "mimetype": "text/x-python",
   "name": "python",
   "nbconvert_exporter": "python",
   "pygments_lexer": "ipython3",
   "version": "3.8.12"
  },
  "orig_nbformat": 4
 },
 "nbformat": 4,
 "nbformat_minor": 2
}
