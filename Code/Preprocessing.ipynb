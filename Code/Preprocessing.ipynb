{
 "cells": [
  {
   "cell_type": "code",
   "execution_count": 4,
   "metadata": {},
   "outputs": [
    {
     "name": "stdout",
     "output_type": "stream",
     "text": [
      "Requirement already satisfied: pydicom in /usr/local/lib/python3.8/dist-packages (from -r requirements.txt (line 1)) (2.3.0)\n",
      "Requirement already satisfied: matplotlib in /usr/local/lib/python3.8/dist-packages (from -r requirements.txt (line 2)) (3.5.1)\n",
      "Requirement already satisfied: numpy in /usr/local/lib/python3.8/dist-packages (from -r requirements.txt (line 3)) (1.22.1)\n",
      "Requirement already satisfied: scikit-image in /usr/local/lib/python3.8/dist-packages (from -r requirements.txt (line 4)) (0.19.2)\n",
      "Requirement already satisfied: Tensorflow in /usr/local/lib/python3.8/dist-packages (from -r requirements.txt (line 5)) (2.7.1)\n",
      "Requirement already satisfied: python-dateutil>=2.7 in /usr/local/lib/python3.8/dist-packages (from matplotlib->-r requirements.txt (line 2)) (2.8.2)\n",
      "Requirement already satisfied: kiwisolver>=1.0.1 in /usr/local/lib/python3.8/dist-packages (from matplotlib->-r requirements.txt (line 2)) (1.3.2)\n",
      "Requirement already satisfied: pyparsing>=2.2.1 in /usr/local/lib/python3.8/dist-packages (from matplotlib->-r requirements.txt (line 2)) (3.0.7)\n",
      "Requirement already satisfied: packaging>=20.0 in /usr/local/lib/python3.8/dist-packages (from matplotlib->-r requirements.txt (line 2)) (21.3)\n",
      "Requirement already satisfied: fonttools>=4.22.0 in /usr/local/lib/python3.8/dist-packages (from matplotlib->-r requirements.txt (line 2)) (4.29.1)\n",
      "Requirement already satisfied: cycler>=0.10 in /usr/local/lib/python3.8/dist-packages (from matplotlib->-r requirements.txt (line 2)) (0.11.0)\n",
      "Requirement already satisfied: pillow>=6.2.0 in /usr/local/lib/python3.8/dist-packages (from matplotlib->-r requirements.txt (line 2)) (9.0.0)\n",
      "Requirement already satisfied: tifffile>=2019.7.26 in /usr/local/lib/python3.8/dist-packages (from scikit-image->-r requirements.txt (line 4)) (2022.4.8)\n",
      "Requirement already satisfied: scipy>=1.4.1 in /usr/local/lib/python3.8/dist-packages (from scikit-image->-r requirements.txt (line 4)) (1.8.0)\n",
      "Requirement already satisfied: PyWavelets>=1.1.1 in /usr/local/lib/python3.8/dist-packages (from scikit-image->-r requirements.txt (line 4)) (1.3.0)\n",
      "Requirement already satisfied: imageio>=2.4.1 in /usr/local/lib/python3.8/dist-packages (from scikit-image->-r requirements.txt (line 4)) (2.17.0)\n",
      "Requirement already satisfied: networkx>=2.2 in /usr/local/lib/python3.8/dist-packages (from scikit-image->-r requirements.txt (line 4)) (2.8)\n",
      "Requirement already satisfied: gast<0.5.0,>=0.2.1 in /usr/local/lib/python3.8/dist-packages (from Tensorflow->-r requirements.txt (line 5)) (0.4.0)\n",
      "Requirement already satisfied: tensorboard~=2.6 in /usr/local/lib/python3.8/dist-packages (from Tensorflow->-r requirements.txt (line 5)) (2.8.0)\n",
      "Requirement already satisfied: grpcio<2.0,>=1.24.3 in /usr/local/lib/python3.8/dist-packages (from Tensorflow->-r requirements.txt (line 5)) (1.43.0)\n",
      "Requirement already satisfied: tensorflow-estimator<2.8,~=2.7.0rc0 in /usr/local/lib/python3.8/dist-packages (from Tensorflow->-r requirements.txt (line 5)) (2.7.0)\n",
      "Requirement already satisfied: termcolor>=1.1.0 in /usr/local/lib/python3.8/dist-packages (from Tensorflow->-r requirements.txt (line 5)) (1.1.0)\n",
      "Requirement already satisfied: six>=1.12.0 in /usr/lib/python3/dist-packages (from Tensorflow->-r requirements.txt (line 5)) (1.14.0)\n",
      "Requirement already satisfied: protobuf>=3.9.2 in /usr/local/lib/python3.8/dist-packages (from Tensorflow->-r requirements.txt (line 5)) (3.19.4)\n",
      "Requirement already satisfied: libclang>=9.0.1 in /usr/local/lib/python3.8/dist-packages (from Tensorflow->-r requirements.txt (line 5)) (13.0.0)\n",
      "Requirement already satisfied: keras<2.8,>=2.7.0rc0 in /usr/local/lib/python3.8/dist-packages (from Tensorflow->-r requirements.txt (line 5)) (2.7.0)\n",
      "Requirement already satisfied: opt-einsum>=2.3.2 in /usr/local/lib/python3.8/dist-packages (from Tensorflow->-r requirements.txt (line 5)) (3.3.0)\n",
      "Requirement already satisfied: keras-preprocessing>=1.1.1 in /usr/local/lib/python3.8/dist-packages (from Tensorflow->-r requirements.txt (line 5)) (1.1.2)\n",
      "Requirement already satisfied: flatbuffers<3.0,>=1.12 in /usr/local/lib/python3.8/dist-packages (from Tensorflow->-r requirements.txt (line 5)) (2.0)\n",
      "Requirement already satisfied: google-pasta>=0.1.1 in /usr/local/lib/python3.8/dist-packages (from Tensorflow->-r requirements.txt (line 5)) (0.2.0)\n",
      "Requirement already satisfied: wheel<1.0,>=0.32.0 in /usr/lib/python3/dist-packages (from Tensorflow->-r requirements.txt (line 5)) (0.34.2)\n",
      "Requirement already satisfied: wrapt>=1.11.0 in /usr/local/lib/python3.8/dist-packages (from Tensorflow->-r requirements.txt (line 5)) (1.13.3)\n",
      "Requirement already satisfied: typing-extensions>=3.6.6 in /usr/local/lib/python3.8/dist-packages (from Tensorflow->-r requirements.txt (line 5)) (4.0.1)\n",
      "Requirement already satisfied: tensorflow-io-gcs-filesystem>=0.21.0 in /usr/local/lib/python3.8/dist-packages (from Tensorflow->-r requirements.txt (line 5)) (0.23.1)\n",
      "Requirement already satisfied: absl-py>=0.4.0 in /usr/local/lib/python3.8/dist-packages (from Tensorflow->-r requirements.txt (line 5)) (1.0.0)\n",
      "Requirement already satisfied: astunparse>=1.6.0 in /usr/local/lib/python3.8/dist-packages (from Tensorflow->-r requirements.txt (line 5)) (1.6.3)\n",
      "Requirement already satisfied: h5py>=2.9.0 in /usr/local/lib/python3.8/dist-packages (from Tensorflow->-r requirements.txt (line 5)) (3.6.0)\n",
      "Requirement already satisfied: google-auth-oauthlib<0.5,>=0.4.1 in /usr/local/lib/python3.8/dist-packages (from tensorboard~=2.6->Tensorflow->-r requirements.txt (line 5)) (0.4.6)\n",
      "Requirement already satisfied: setuptools>=41.0.0 in /usr/local/lib/python3.8/dist-packages (from tensorboard~=2.6->Tensorflow->-r requirements.txt (line 5)) (60.7.0)\n",
      "Requirement already satisfied: google-auth<3,>=1.6.3 in /usr/local/lib/python3.8/dist-packages (from tensorboard~=2.6->Tensorflow->-r requirements.txt (line 5)) (2.6.0)\n",
      "Requirement already satisfied: tensorboard-data-server<0.7.0,>=0.6.0 in /usr/local/lib/python3.8/dist-packages (from tensorboard~=2.6->Tensorflow->-r requirements.txt (line 5)) (0.6.1)\n",
      "Requirement already satisfied: werkzeug>=0.11.15 in /usr/local/lib/python3.8/dist-packages (from tensorboard~=2.6->Tensorflow->-r requirements.txt (line 5)) (2.0.2)\n",
      "Requirement already satisfied: requests<3,>=2.21.0 in /usr/lib/python3/dist-packages (from tensorboard~=2.6->Tensorflow->-r requirements.txt (line 5)) (2.22.0)\n",
      "Requirement already satisfied: tensorboard-plugin-wit>=1.6.0 in /usr/local/lib/python3.8/dist-packages (from tensorboard~=2.6->Tensorflow->-r requirements.txt (line 5)) (1.8.1)\n",
      "Requirement already satisfied: markdown>=2.6.8 in /usr/local/lib/python3.8/dist-packages (from tensorboard~=2.6->Tensorflow->-r requirements.txt (line 5)) (3.3.6)\n",
      "Requirement already satisfied: requests-oauthlib>=0.7.0 in /usr/local/lib/python3.8/dist-packages (from google-auth-oauthlib<0.5,>=0.4.1->tensorboard~=2.6->Tensorflow->-r requirements.txt (line 5)) (1.3.1)\n",
      "Requirement already satisfied: rsa<5,>=3.1.4; python_version >= \"3.6\" in /usr/local/lib/python3.8/dist-packages (from google-auth<3,>=1.6.3->tensorboard~=2.6->Tensorflow->-r requirements.txt (line 5)) (4.8)\n",
      "Requirement already satisfied: cachetools<6.0,>=2.0.0 in /usr/local/lib/python3.8/dist-packages (from google-auth<3,>=1.6.3->tensorboard~=2.6->Tensorflow->-r requirements.txt (line 5)) (5.0.0)\n",
      "Requirement already satisfied: pyasn1-modules>=0.2.1 in /usr/local/lib/python3.8/dist-packages (from google-auth<3,>=1.6.3->tensorboard~=2.6->Tensorflow->-r requirements.txt (line 5)) (0.2.8)\n",
      "Requirement already satisfied: importlib-metadata>=4.4; python_version < \"3.10\" in /usr/local/lib/python3.8/dist-packages (from markdown>=2.6.8->tensorboard~=2.6->Tensorflow->-r requirements.txt (line 5)) (4.10.1)\n",
      "Requirement already satisfied: oauthlib>=3.0.0 in /usr/local/lib/python3.8/dist-packages (from requests-oauthlib>=0.7.0->google-auth-oauthlib<0.5,>=0.4.1->tensorboard~=2.6->Tensorflow->-r requirements.txt (line 5)) (3.2.0)\n",
      "Requirement already satisfied: pyasn1>=0.1.3 in /usr/local/lib/python3.8/dist-packages (from rsa<5,>=3.1.4; python_version >= \"3.6\"->google-auth<3,>=1.6.3->tensorboard~=2.6->Tensorflow->-r requirements.txt (line 5)) (0.4.8)\n",
      "Requirement already satisfied: zipp>=0.5 in /usr/local/lib/python3.8/dist-packages (from importlib-metadata>=4.4; python_version < \"3.10\"->markdown>=2.6.8->tensorboard~=2.6->Tensorflow->-r requirements.txt (line 5)) (3.7.0)\n",
      "\u001b[33mWARNING: You are using pip version 20.2.4; however, version 22.0.4 is available.\n",
      "You should consider upgrading via the '/usr/bin/python3 -m pip install --upgrade pip' command.\u001b[0m\n"
     ]
    }
   ],
   "source": [
    "import sys\n",
    "!{sys.executable} -m pip install -r requirements.txt\n",
    "import pydicom\n",
    "import matplotlib.pylab as plt\n",
    "import matplotlib\n",
    "import os\n",
    "import numpy as np\n",
    "from PIL import Image\n",
    "import time\n"
   ]
  },
  {
   "cell_type": "markdown",
   "metadata": {},
   "source": [
    "Configure Global Variables\n",
    "----"
   ]
  },
  {
   "cell_type": "code",
   "execution_count": 2,
   "metadata": {},
   "outputs": [],
   "source": [
    "window = 350 # Window/Level from Hoori et al (\"HU-attention-window with a window/level of 350/40 HU\")\n",
    "level = 40\n",
    "bitDepth = 8 # Must be 8 for uint8 PNGs. Explore floating point\n",
    "TrainingDataRootDir = '../Training Data'\n",
    "TestDataRootDir = '../Test Data'"
   ]
  },
  {
   "cell_type": "markdown",
   "metadata": {},
   "source": [
    "Preprocess Training Data\n",
    "----"
   ]
  },
  {
   "cell_type": "code",
   "execution_count": 4,
   "metadata": {},
   "outputs": [
    {
     "name": "stdout",
     "output_type": "stream",
     "text": [
      "../Training Data/CA014\n",
      "../Training Data/CA067\n",
      "../Training Data/CA019R\n",
      "../Training Data/CA011\n",
      "../Training Data/CA002\n",
      "../Training Data/CA004\n",
      "../Training Data/CA036\n",
      "../Training Data/CA061\n",
      "../Training Data/CA039\n",
      "../Training Data/CA024\n",
      "../Training Data/CA053\n",
      "../Training Data/CA050\n",
      "../Training Data/CA064\n",
      "../Training Data/CA006\n",
      "../Training Data/CA013\n",
      "../Training Data/CA003\n",
      "../Training Data/CA054\n",
      "../Training Data/CA042\n",
      "../Training Data/CA060\n",
      "../Training Data/CA055\n",
      "../Training Data/CA041\n",
      "../Training Data/CA068\n",
      "../Training Data/CA059\n",
      "../Training Data/CA020\n",
      "../Training Data/CA044\n"
     ]
    }
   ],
   "source": [
    "CombinedTrainingImageDir = TrainingDataRootDir + '/AllImages'\n",
    "CombinedTrainingMaskDir = TrainingDataRootDir + '/AllMasks'\n",
    "os.makedirs(CombinedTrainingImageDir, exist_ok=True)\n",
    "os.makedirs(CombinedTrainingMaskDir, exist_ok=True)\n",
    "\n",
    "currentImageIndex = 0\n",
    "subjects = os.listdir(TrainingDataRootDir)\n",
    "for subject in subjects:\n",
    "    if not (subject == 'AllImages' or subject == 'AllMasks'):\n",
    "        currentSubjectDir = TrainingDataRootDir + \"/\" + subject;\n",
    "        print(currentSubjectDir)\n",
    "\n",
    "        volume_dicoms = os.listdir(currentSubjectDir + '/Dicom/Vol/')\n",
    "        dataset_vol = [None] * (len(volume_dicoms))\n",
    "        for dicom in volume_dicoms:\n",
    "            slice_number = int(dicom.split('Slice')[1].split('.dcm')[0])\n",
    "            dataset_vol[slice_number-1] = pydicom.dcmread(currentSubjectDir+'/Dicom/Vol/'+dicom)\n",
    "        \n",
    "        sac_dicoms = os.listdir(currentSubjectDir + '/Dicom/Sac/')\n",
    "        dataset_sac = [None] * (len(sac_dicoms))\n",
    "        for dicom in sac_dicoms:\n",
    "            slice_number = int(dicom.split('Slice')[1].split('.dcm')[0])\n",
    "            dataset_sac[slice_number-1] = pydicom.dcmread(currentSubjectDir+'/Dicom/Sac/'+dicom)\n",
    "\n",
    "        for i in range(1, len(dataset_vol)-1):\n",
    "            sliceRGB = np.zeros((dataset_vol[i].pixel_array.shape[0],dataset_vol[i].pixel_array.shape[1],3))\n",
    "            sliceRGB[:,:,0] = dataset_vol[i-1].pixel_array\n",
    "            sliceRGB[:,:,1] = dataset_vol[i].pixel_array\n",
    "            sliceRGB[:,:,2] = dataset_vol[i+1].pixel_array\n",
    "            sliceRGB = np.clip((sliceRGB - (level-window/2)) / window, 0,1) # Apply window/level and clip to 0->1 range\n",
    "            sliceRGB = sliceRGB * ((2**bitDepth)-1) # Scale to bitdepth\n",
    "            sliceRGB = np.floor(sliceRGB) # Floor to integer\n",
    "            imageFilename = CombinedTrainingImageDir + \"/\" + str(currentImageIndex)+'.png'\n",
    "            matplotlib.image.imsave(imageFilename, sliceRGB.astype(np.uint8))\n",
    "\n",
    "            sliceMask = np.zeros((dataset_vol[i].pixel_array.shape[0],dataset_vol[i].pixel_array.shape[1],3))\n",
    "            sliceMask[:,:,0] = dataset_sac[i].pixel_array\n",
    "            sliceMask[:,:,1] = dataset_sac[i].pixel_array\n",
    "            sliceMask[:,:,2] = dataset_sac[i].pixel_array\n",
    "            sliceMask = sliceMask * ((2**bitDepth)-1) # Scale to bitdepth\n",
    "            maskFilename = CombinedTrainingMaskDir + \"/\" + str(currentImageIndex)+'.png'\n",
    "            matplotlib.image.imsave(maskFilename, sliceMask.astype(np.uint8))\n",
    "\n",
    "            currentImageIndex = currentImageIndex + 1"
   ]
  },
  {
   "cell_type": "markdown",
   "metadata": {},
   "source": [
    "Preprocess Test Data\n",
    "----"
   ]
  },
  {
   "cell_type": "code",
   "execution_count": 3,
   "metadata": {},
   "outputs": [
    {
     "name": "stdout",
     "output_type": "stream",
     "text": [
      "../Test Data/SA209\n",
      "../Test Data/SA218\n",
      "../Test Data/SA221\n",
      "../Test Data/SA204\n",
      "../Test Data/SA206\n",
      "../Test Data/SA212\n",
      "../Test Data/SA201\n",
      "../Test Data/SA219\n",
      "../Test Data/SA200\n",
      "../Test Data/SA222\n",
      "../Test Data/SA215\n",
      "../Test Data/SA211\n",
      "../Test Data/SA210\n",
      "../Test Data/SA205\n",
      "../Test Data/SA213\n"
     ]
    }
   ],
   "source": [
    "CombinedTestImageDir = TestDataRootDir + '/AllImages'\n",
    "CombinedTestMaskDir = TestDataRootDir + '/AllMasks'\n",
    "os.makedirs(CombinedTestImageDir, exist_ok=True)\n",
    "os.makedirs(CombinedTestMaskDir, exist_ok=True)\n",
    "\n",
    "currentImageIndex = 0\n",
    "subjects = os.listdir(TestDataRootDir)\n",
    "for subject in subjects:\n",
    "    if not (subject == 'AllImages' or subject == 'AllMasks'):\n",
    "        currentSubjectDir = TestDataRootDir + \"/\" + subject;\n",
    "        print(currentSubjectDir)\n",
    "\n",
    "        volume_dicoms = os.listdir(currentSubjectDir + '/Dicom/Vol/')\n",
    "        dataset_vol = [None] * (len(volume_dicoms))\n",
    "        for dicom in volume_dicoms:\n",
    "            slice_number = int(dicom.split('Slice')[1].split('.dcm')[0])\n",
    "            dataset_vol[slice_number-1] = pydicom.dcmread(currentSubjectDir+'/Dicom/Vol/'+dicom)\n",
    "        \n",
    "        sac_dicoms = os.listdir(currentSubjectDir + '/Dicom/Sac/')\n",
    "        dataset_sac = [None] * (len(sac_dicoms))\n",
    "        for dicom in sac_dicoms:\n",
    "            slice_number = int(dicom.split('Slice')[1].split('.dcm')[0])\n",
    "            dataset_sac[slice_number-1] = pydicom.dcmread(currentSubjectDir+'/Dicom/Sac/'+dicom)\n",
    "\n",
    "        for i in range(1, len(dataset_vol)-1):\n",
    "            sliceRGB = np.zeros((dataset_vol[i].pixel_array.shape[0],dataset_vol[i].pixel_array.shape[1],3))\n",
    "            sliceRGB[:,:,0] = dataset_vol[i-1].pixel_array\n",
    "            sliceRGB[:,:,1] = dataset_vol[i].pixel_array\n",
    "            sliceRGB[:,:,2] = dataset_vol[i+1].pixel_array\n",
    "            sliceRGB = np.clip((sliceRGB - (level-window/2)) / window, 0,1) # Apply window/level and clip to 0->1 range\n",
    "            sliceRGB = sliceRGB * ((2**bitDepth)-1) # Scale to bitdepth\n",
    "            sliceRGB = np.floor(sliceRGB) # Floor to integer\n",
    "            imageFilename = CombinedTestImageDir + \"/\" + str(currentImageIndex)+'.png'\n",
    "            matplotlib.image.imsave(imageFilename, sliceRGB.astype(np.uint8))\n",
    "\n",
    "            sliceMask = np.zeros((dataset_vol[i].pixel_array.shape[0],dataset_vol[i].pixel_array.shape[1],3))\n",
    "            sliceMask[:,:,0] = dataset_sac[i].pixel_array\n",
    "            sliceMask[:,:,1] = dataset_sac[i].pixel_array\n",
    "            sliceMask[:,:,2] = dataset_sac[i].pixel_array\n",
    "            sliceMask = sliceMask * ((2**bitDepth)-1) # Scale to bitdepth\n",
    "            maskFilename = CombinedTestMaskDir + \"/\" + str(currentImageIndex)+'.png'\n",
    "            matplotlib.image.imsave(maskFilename, sliceMask.astype(np.uint8))\n",
    "\n",
    "            currentImageIndex = currentImageIndex + 1"
   ]
  },
  {
   "cell_type": "markdown",
   "metadata": {},
   "source": [
    "Find Voxel Size\n",
    "----"
   ]
  },
  {
   "cell_type": "code",
   "execution_count": 5,
   "metadata": {},
   "outputs": [
    {
     "ename": "NameError",
     "evalue": "name 'TestDataRootDir' is not defined",
     "output_type": "error",
     "traceback": [
      "\u001b[0;31m---------------------------------------------------------------------------\u001b[0m",
      "\u001b[0;31mNameError\u001b[0m                                 Traceback (most recent call last)",
      "\u001b[1;32m/workspaces/461-EAT-Project/Code/Preprocessing.ipynb Cell 9'\u001b[0m in \u001b[0;36m<module>\u001b[0;34m\u001b[0m\n\u001b[0;32m----> <a href='vscode-notebook-cell://dev-container%2B2f686f6d652f646f6d696e697175656672616e736f6e2f4465736b746f702f3436312d4541542d50726f6a656374/workspaces/461-EAT-Project/Code/Preprocessing.ipynb#ch0000007vscode-remote?line=0'>1</a>\u001b[0m subjects \u001b[39m=\u001b[39m os\u001b[39m.\u001b[39mlistdir(TestDataRootDir)\n\u001b[1;32m      <a href='vscode-notebook-cell://dev-container%2B2f686f6d652f646f6d696e697175656672616e736f6e2f4465736b746f702f3436312d4541542d50726f6a656374/workspaces/461-EAT-Project/Code/Preprocessing.ipynb#ch0000007vscode-remote?line=1'>2</a>\u001b[0m \u001b[39mfor\u001b[39;00m subject \u001b[39min\u001b[39;00m subjects:\n\u001b[1;32m      <a href='vscode-notebook-cell://dev-container%2B2f686f6d652f646f6d696e697175656672616e736f6e2f4465736b746f702f3436312d4541542d50726f6a656374/workspaces/461-EAT-Project/Code/Preprocessing.ipynb#ch0000007vscode-remote?line=2'>3</a>\u001b[0m     \u001b[39mif\u001b[39;00m \u001b[39mnot\u001b[39;00m (subject \u001b[39m==\u001b[39m \u001b[39m'\u001b[39m\u001b[39mAllImages\u001b[39m\u001b[39m'\u001b[39m \u001b[39mor\u001b[39;00m subject \u001b[39m==\u001b[39m \u001b[39m'\u001b[39m\u001b[39mAllMasks\u001b[39m\u001b[39m'\u001b[39m):\n",
      "\u001b[0;31mNameError\u001b[0m: name 'TestDataRootDir' is not defined"
     ]
    }
   ],
   "source": [
    "subjects = os.listdir(TestDataRootDir)\n",
    "for subject in subjects:\n",
    "    if not (subject == 'AllImages' or subject == 'AllMasks'):\n",
    "        currentSubjectDir = TestDataRootDir + \"/\" + subject\n",
    "        print(currentSubjectDir)\n",
    "\n",
    "        volume_dicoms = os.listdir(currentSubjectDir + '/Dicom/Vol/')\n",
    "        dataset_vol = [None] * (len(volume_dicoms))\n",
    "        for dicom in volume_dicoms:\n",
    "            slice_number = int(dicom.split('Slice')[1].split('.dcm')[0])\n",
    "            dataset_vol[slice_number-1] = pydicom.dcmread(currentSubjectDir+'/Dicom/Vol/'+dicom)\n",
    "            print(dataset_vol[slice_number-1])\n",
    "\n",
    "\n"
   ]
  },
  {
   "cell_type": "markdown",
   "metadata": {},
   "source": []
  }
 ],
 "metadata": {
  "interpreter": {
   "hash": "4f946df053fbf2b937619d3c5458e7af74262f9a954d8797ba0b27400bcafe06"
  },
  "kernelspec": {
   "display_name": "Python 3",
   "language": "python",
   "name": "python3"
  },
  "language_info": {
   "codemirror_mode": {
    "name": "ipython",
    "version": 3
   },
   "file_extension": ".py",
   "mimetype": "text/x-python",
   "name": "python",
   "nbconvert_exporter": "python",
   "pygments_lexer": "ipython3",
   "version": "3.8.10"
  },
  "orig_nbformat": 4
 },
 "nbformat": 4,
 "nbformat_minor": 2
}
