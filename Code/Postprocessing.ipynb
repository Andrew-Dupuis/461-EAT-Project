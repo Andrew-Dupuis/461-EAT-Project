{
 "cells": [
  {
   "cell_type": "code",
   "execution_count": 4,
   "metadata": {},
   "outputs": [
    {
     "name": "stdout",
     "output_type": "stream",
     "text": [
      "Requirement already satisfied: pydicom in /usr/local/lib/python3.8/dist-packages (from -r requirements.txt (line 1)) (2.3.0)\n",
      "Requirement already satisfied: matplotlib in /usr/local/lib/python3.8/dist-packages (from -r requirements.txt (line 2)) (3.5.1)\n",
      "Requirement already satisfied: numpy in /usr/local/lib/python3.8/dist-packages (from -r requirements.txt (line 3)) (1.22.1)\n",
      "Requirement already satisfied: scikit-image in /usr/local/lib/python3.8/dist-packages (from -r requirements.txt (line 4)) (0.19.2)\n",
      "Requirement already satisfied: Tensorflow in /usr/local/lib/python3.8/dist-packages (from -r requirements.txt (line 5)) (2.7.1)\n",
      "Requirement already satisfied: pyparsing>=2.2.1 in /usr/local/lib/python3.8/dist-packages (from matplotlib->-r requirements.txt (line 2)) (3.0.7)\n",
      "Requirement already satisfied: cycler>=0.10 in /usr/local/lib/python3.8/dist-packages (from matplotlib->-r requirements.txt (line 2)) (0.11.0)\n",
      "Requirement already satisfied: pillow>=6.2.0 in /usr/local/lib/python3.8/dist-packages (from matplotlib->-r requirements.txt (line 2)) (9.0.0)\n",
      "Requirement already satisfied: python-dateutil>=2.7 in /usr/local/lib/python3.8/dist-packages (from matplotlib->-r requirements.txt (line 2)) (2.8.2)\n",
      "Requirement already satisfied: kiwisolver>=1.0.1 in /usr/local/lib/python3.8/dist-packages (from matplotlib->-r requirements.txt (line 2)) (1.3.2)\n",
      "Requirement already satisfied: packaging>=20.0 in /usr/local/lib/python3.8/dist-packages (from matplotlib->-r requirements.txt (line 2)) (21.3)\n",
      "Requirement already satisfied: fonttools>=4.22.0 in /usr/local/lib/python3.8/dist-packages (from matplotlib->-r requirements.txt (line 2)) (4.29.1)\n",
      "Requirement already satisfied: networkx>=2.2 in /usr/local/lib/python3.8/dist-packages (from scikit-image->-r requirements.txt (line 4)) (2.8)\n",
      "Requirement already satisfied: scipy>=1.4.1 in /usr/local/lib/python3.8/dist-packages (from scikit-image->-r requirements.txt (line 4)) (1.8.0)\n",
      "Requirement already satisfied: PyWavelets>=1.1.1 in /usr/local/lib/python3.8/dist-packages (from scikit-image->-r requirements.txt (line 4)) (1.3.0)\n",
      "Requirement already satisfied: imageio>=2.4.1 in /usr/local/lib/python3.8/dist-packages (from scikit-image->-r requirements.txt (line 4)) (2.17.0)\n",
      "Requirement already satisfied: tifffile>=2019.7.26 in /usr/local/lib/python3.8/dist-packages (from scikit-image->-r requirements.txt (line 4)) (2022.4.8)\n",
      "Requirement already satisfied: keras<2.8,>=2.7.0rc0 in /usr/local/lib/python3.8/dist-packages (from Tensorflow->-r requirements.txt (line 5)) (2.7.0)\n",
      "Requirement already satisfied: wheel<1.0,>=0.32.0 in /usr/lib/python3/dist-packages (from Tensorflow->-r requirements.txt (line 5)) (0.34.2)\n",
      "Requirement already satisfied: flatbuffers<3.0,>=1.12 in /usr/local/lib/python3.8/dist-packages (from Tensorflow->-r requirements.txt (line 5)) (2.0)\n",
      "Requirement already satisfied: libclang>=9.0.1 in /usr/local/lib/python3.8/dist-packages (from Tensorflow->-r requirements.txt (line 5)) (13.0.0)\n",
      "Requirement already satisfied: typing-extensions>=3.6.6 in /usr/local/lib/python3.8/dist-packages (from Tensorflow->-r requirements.txt (line 5)) (4.0.1)\n",
      "Requirement already satisfied: tensorflow-io-gcs-filesystem>=0.21.0 in /usr/local/lib/python3.8/dist-packages (from Tensorflow->-r requirements.txt (line 5)) (0.23.1)\n",
      "Requirement already satisfied: termcolor>=1.1.0 in /usr/local/lib/python3.8/dist-packages (from Tensorflow->-r requirements.txt (line 5)) (1.1.0)\n",
      "Requirement already satisfied: wrapt>=1.11.0 in /usr/local/lib/python3.8/dist-packages (from Tensorflow->-r requirements.txt (line 5)) (1.13.3)\n",
      "Requirement already satisfied: h5py>=2.9.0 in /usr/local/lib/python3.8/dist-packages (from Tensorflow->-r requirements.txt (line 5)) (3.6.0)\n",
      "Requirement already satisfied: protobuf>=3.9.2 in /usr/local/lib/python3.8/dist-packages (from Tensorflow->-r requirements.txt (line 5)) (3.19.4)\n",
      "Requirement already satisfied: grpcio<2.0,>=1.24.3 in /usr/local/lib/python3.8/dist-packages (from Tensorflow->-r requirements.txt (line 5)) (1.43.0)\n",
      "Requirement already satisfied: six>=1.12.0 in /usr/lib/python3/dist-packages (from Tensorflow->-r requirements.txt (line 5)) (1.14.0)\n",
      "Requirement already satisfied: tensorboard~=2.6 in /usr/local/lib/python3.8/dist-packages (from Tensorflow->-r requirements.txt (line 5)) (2.8.0)\n",
      "Requirement already satisfied: keras-preprocessing>=1.1.1 in /usr/local/lib/python3.8/dist-packages (from Tensorflow->-r requirements.txt (line 5)) (1.1.2)\n",
      "Requirement already satisfied: absl-py>=0.4.0 in /usr/local/lib/python3.8/dist-packages (from Tensorflow->-r requirements.txt (line 5)) (1.0.0)\n",
      "Requirement already satisfied: tensorflow-estimator<2.8,~=2.7.0rc0 in /usr/local/lib/python3.8/dist-packages (from Tensorflow->-r requirements.txt (line 5)) (2.7.0)\n",
      "Requirement already satisfied: astunparse>=1.6.0 in /usr/local/lib/python3.8/dist-packages (from Tensorflow->-r requirements.txt (line 5)) (1.6.3)\n",
      "Requirement already satisfied: opt-einsum>=2.3.2 in /usr/local/lib/python3.8/dist-packages (from Tensorflow->-r requirements.txt (line 5)) (3.3.0)\n",
      "Requirement already satisfied: gast<0.5.0,>=0.2.1 in /usr/local/lib/python3.8/dist-packages (from Tensorflow->-r requirements.txt (line 5)) (0.4.0)\n",
      "Requirement already satisfied: google-pasta>=0.1.1 in /usr/local/lib/python3.8/dist-packages (from Tensorflow->-r requirements.txt (line 5)) (0.2.0)\n",
      "Requirement already satisfied: google-auth-oauthlib<0.5,>=0.4.1 in /usr/local/lib/python3.8/dist-packages (from tensorboard~=2.6->Tensorflow->-r requirements.txt (line 5)) (0.4.6)\n",
      "Requirement already satisfied: google-auth<3,>=1.6.3 in /usr/local/lib/python3.8/dist-packages (from tensorboard~=2.6->Tensorflow->-r requirements.txt (line 5)) (2.6.0)\n",
      "Requirement already satisfied: setuptools>=41.0.0 in /usr/local/lib/python3.8/dist-packages (from tensorboard~=2.6->Tensorflow->-r requirements.txt (line 5)) (60.7.0)\n",
      "Requirement already satisfied: tensorboard-plugin-wit>=1.6.0 in /usr/local/lib/python3.8/dist-packages (from tensorboard~=2.6->Tensorflow->-r requirements.txt (line 5)) (1.8.1)\n",
      "Requirement already satisfied: tensorboard-data-server<0.7.0,>=0.6.0 in /usr/local/lib/python3.8/dist-packages (from tensorboard~=2.6->Tensorflow->-r requirements.txt (line 5)) (0.6.1)\n",
      "Requirement already satisfied: werkzeug>=0.11.15 in /usr/local/lib/python3.8/dist-packages (from tensorboard~=2.6->Tensorflow->-r requirements.txt (line 5)) (2.0.2)\n",
      "Requirement already satisfied: requests<3,>=2.21.0 in /usr/lib/python3/dist-packages (from tensorboard~=2.6->Tensorflow->-r requirements.txt (line 5)) (2.22.0)\n",
      "Requirement already satisfied: markdown>=2.6.8 in /usr/local/lib/python3.8/dist-packages (from tensorboard~=2.6->Tensorflow->-r requirements.txt (line 5)) (3.3.6)\n",
      "Requirement already satisfied: requests-oauthlib>=0.7.0 in /usr/local/lib/python3.8/dist-packages (from google-auth-oauthlib<0.5,>=0.4.1->tensorboard~=2.6->Tensorflow->-r requirements.txt (line 5)) (1.3.1)\n",
      "Requirement already satisfied: cachetools<6.0,>=2.0.0 in /usr/local/lib/python3.8/dist-packages (from google-auth<3,>=1.6.3->tensorboard~=2.6->Tensorflow->-r requirements.txt (line 5)) (5.0.0)\n",
      "Requirement already satisfied: pyasn1-modules>=0.2.1 in /usr/local/lib/python3.8/dist-packages (from google-auth<3,>=1.6.3->tensorboard~=2.6->Tensorflow->-r requirements.txt (line 5)) (0.2.8)\n",
      "Requirement already satisfied: rsa<5,>=3.1.4; python_version >= \"3.6\" in /usr/local/lib/python3.8/dist-packages (from google-auth<3,>=1.6.3->tensorboard~=2.6->Tensorflow->-r requirements.txt (line 5)) (4.8)\n",
      "Requirement already satisfied: importlib-metadata>=4.4; python_version < \"3.10\" in /usr/local/lib/python3.8/dist-packages (from markdown>=2.6.8->tensorboard~=2.6->Tensorflow->-r requirements.txt (line 5)) (4.10.1)\n",
      "Requirement already satisfied: oauthlib>=3.0.0 in /usr/local/lib/python3.8/dist-packages (from requests-oauthlib>=0.7.0->google-auth-oauthlib<0.5,>=0.4.1->tensorboard~=2.6->Tensorflow->-r requirements.txt (line 5)) (3.2.0)\n",
      "Requirement already satisfied: pyasn1<0.5.0,>=0.4.6 in /usr/local/lib/python3.8/dist-packages (from pyasn1-modules>=0.2.1->google-auth<3,>=1.6.3->tensorboard~=2.6->Tensorflow->-r requirements.txt (line 5)) (0.4.8)\n",
      "Requirement already satisfied: zipp>=0.5 in /usr/local/lib/python3.8/dist-packages (from importlib-metadata>=4.4; python_version < \"3.10\"->markdown>=2.6.8->tensorboard~=2.6->Tensorflow->-r requirements.txt (line 5)) (3.7.0)\n",
      "\u001b[33mWARNING: You are using pip version 20.2.4; however, version 22.0.4 is available.\n",
      "You should consider upgrading via the '/usr/bin/python3 -m pip install --upgrade pip' command.\u001b[0m\n"
     ]
    }
   ],
   "source": [
    "import sys\n",
    "!{sys.executable} -m pip install -r requirements.txt\n",
    "import pydicom\n",
    "import matplotlib.pylab as plt\n",
    "import matplotlib\n",
    "import os\n",
    "import numpy as np\n",
    "from PIL import Image\n",
    "import time\n",
    "import skimage.io as io\n",
    "from unet.model import *\n",
    "from unet.data import *\n"
   ]
  },
  {
   "cell_type": "markdown",
   "metadata": {},
   "source": [
    "Configure Global Variables\n",
    "----"
   ]
  },
  {
   "cell_type": "code",
   "execution_count": 5,
   "metadata": {},
   "outputs": [],
   "source": [
    "window = 350 # Window/Level from Hoori et al (\"HU-attention-window with a window/level of 350/40 HU\")\n",
    "level = 40\n",
    "bitDepth = 8 # Must be 8 for uint8 PNGs. Explore floating point\n",
    "TrainingDataRootDir = '../Training Data'\n",
    "TestDataRootDir = '../Test Data'"
   ]
  },
  {
   "cell_type": "markdown",
   "metadata": {},
   "source": [
    "Postprocess Test Data\n",
    "----"
   ]
  },
  {
   "cell_type": "code",
   "execution_count": 2,
   "metadata": {},
   "outputs": [
    {
     "ename": "NameError",
     "evalue": "name 'TestDataRootDir' is not defined",
     "output_type": "error",
     "traceback": [
      "\u001b[0;31m---------------------------------------------------------------------------\u001b[0m",
      "\u001b[0;31mNameError\u001b[0m                                 Traceback (most recent call last)",
      "\u001b[1;32m/workspaces/461-EAT-Project/Code/Postprocessing.ipynb Cell 5'\u001b[0m in \u001b[0;36m<module>\u001b[0;34m\u001b[0m\n\u001b[0;32m----> <a href='vscode-notebook-cell://dev-container%2B2f686f6d652f646f6d696e697175656672616e736f6e2f4465736b746f702f3436312d4541542d50726f6a656374/workspaces/461-EAT-Project/Code/Postprocessing.ipynb#ch0000004vscode-remote?line=0'>1</a>\u001b[0m CombinedTestInputImageDir \u001b[39m=\u001b[39m TestDataRootDir \u001b[39m+\u001b[39m \u001b[39m'\u001b[39m\u001b[39m/AllImages\u001b[39m\u001b[39m'\u001b[39m\n\u001b[1;32m      <a href='vscode-notebook-cell://dev-container%2B2f686f6d652f646f6d696e697175656672616e736f6e2f4465736b746f702f3436312d4541542d50726f6a656374/workspaces/461-EAT-Project/Code/Postprocessing.ipynb#ch0000004vscode-remote?line=1'>2</a>\u001b[0m CombinedTestInputMaskDir \u001b[39m=\u001b[39m TestDataRootDir \u001b[39m+\u001b[39m \u001b[39m'\u001b[39m\u001b[39m/AllMasks\u001b[39m\u001b[39m'\u001b[39m\n\u001b[1;32m      <a href='vscode-notebook-cell://dev-container%2B2f686f6d652f646f6d696e697175656672616e736f6e2f4465736b746f702f3436312d4541542d50726f6a656374/workspaces/461-EAT-Project/Code/Postprocessing.ipynb#ch0000004vscode-remote?line=2'>3</a>\u001b[0m CombinedTestOutputMaskDir \u001b[39m=\u001b[39m TestDataRootDir \u001b[39m+\u001b[39m \u001b[39m'\u001b[39m\u001b[39m/AllOutputMasks\u001b[39m\u001b[39m'\u001b[39m\n",
      "\u001b[0;31mNameError\u001b[0m: name 'TestDataRootDir' is not defined"
     ]
    }
   ],
   "source": [
    "CombinedTestInputImageDir = TestDataRootDir + '/AllImages'\n",
    "CombinedTestInputMaskDir = TestDataRootDir + '/AllMasks'\n",
    "CombinedTestOutputMaskDir = TestDataRootDir + '/AllOutputMasks'\n",
    "CombinedTestOutputImageDir = TestDataRootDir + '/AllOutputImages'\n",
    "os.makedirs(CombinedTestOutputMaskDir, exist_ok=True)\n",
    "os.makedirs(CombinedTestOutputImageDir, exist_ok=True)\n",
    "\n",
    "model = unet()\n",
    "model.load_weights(\"unet_EAT_model_4_6_22.hdf\")\n",
    "\n",
    "mask_threshold = 0.2\n",
    "\n",
    "currentImageIndex = 0\n",
    "images = os.listdir(CombinedTestInputImageDir)\n",
    "for image in images:\n",
    "    test_image_path = CombinedTestInputImageDir + \"/\" + image\n",
    "    print(test_image_path)\n",
    "    inputImage = io.imread(test_image_path,as_gray = False)\n",
    "    inputImage = inputImage / 255\n",
    "    inputImage = trans.resize(inputImage,(256,256))\n",
    "    inputImage = inputImage[:,:,0:3]\n",
    "    inputImage = np.reshape(inputImage,(1,)+inputImage.shape)\n",
    "    result = model.predict(inputImage)\n",
    "    shape = result.shape\n",
    "    mask_thresholded = result[0,:,:,0] > mask_threshold\n",
    "    resultMaskNumVoxels = np.count_nonzero(mask_thresholded)\n",
    "    print(resultMaskNumVoxels)\n",
    "\n",
    "    test_mask_path = CombinedTestInputMaskDir + \"/\" + image\n",
    "    inputMask = io.imread(test_path,as_gray = False)\n",
    "    inputMask = inputMask / 255\n",
    "    inputMask = trans.resize(inputMask,(256,256))\n",
    "    inputMask = inputMask[:,:,0:3]\n",
    "    inputMask = np.reshape(inputMask,(1,)+inputMask.shape)\n",
    "    input_mask_thresholded = inputMask[0,:,:,0] > mask_threshold\n",
    "    inputMaskNumVoxels = np.count_nonzero(input_mask_thresholded)\n",
    "    # print(inputMaskNumVoxels)\n",
    "\n",
    "    maskScaled = mask_thresholded * ((2**8)-1)\n",
    "    # print(maskScaled.shape)\n",
    "    maskRGB = np.zeros((shape[1],shape[2],3))\n",
    "    maskRGB[:,:,0] = maskScaled\n",
    "    maskRGB[:,:,1] = maskScaled\n",
    "    maskRGB[:,:,2] = maskScaled\n",
    "    matplotlib.image.imsave(os.path.join(CombinedTestOutputMaskDir,\"%d.png\"%currentImageIndex), maskRGB.astype(np.uint8))\n",
    "\n",
    "    currentImageIndex = currentImageIndex + 1\n"
   ]
  },
  {
   "cell_type": "code",
   "execution_count": null,
   "metadata": {},
   "outputs": [],
   "source": [
    "## CA\n",
    "## (0018, 0050) Slice Thickness                     DS: '2.5'\n",
    "## (0028, 0010) Rows                                US: 512\n",
    "## (0028, 0011) Columns                             US: 512\n",
    "## (0028, 0030) Pixel Spacing                       DS: [0.8671875, 0.8671875]\n",
    "\n",
    "\n",
    "## SA\n",
    "## (0018, 0050) Slice Thickness                     DS: '2.5'\n",
    "## (0028, 0010) Rows                                US: 512\n",
    "## (0028, 0011) Columns                             US: 512\n",
    "## (0028, 0030) Pixel Spacing                       DS: [0.78125, 0.78125]\n"
   ]
  },
  {
   "cell_type": "markdown",
   "metadata": {},
   "source": [
    "Apply AI Fat Masks and Isolate Fat by HU\n",
    "----"
   ]
  },
  {
   "cell_type": "code",
   "execution_count": 18,
   "metadata": {},
   "outputs": [
    {
     "name": "stdout",
     "output_type": "stream",
     "text": [
      "../Test Data/SA218\n",
      "../Test Data/SA221\n",
      "../Test Data/SA219\n",
      "../Test Data/SA222\n"
     ]
    }
   ],
   "source": [
    "CombinedTestImageDir = TestDataRootDir + '/AllImages'\n",
    "CombinedTestMaskDir = TestDataRootDir + '/AllMasks'\n",
    "CombinedTestOutputMaskDir = TestDataRootDir + '/AllOutputMasks'\n",
    "CombinedTestOutputImageDir = TestDataRootDir + '/AllOutputImages'\n",
    "os.makedirs(CombinedTestOutputImageDir, exist_ok=True)\n",
    "\n",
    "# fat\n",
    "window = 80 \n",
    "level = -110\n",
    "\n",
    "currentImageIndex = 0\n",
    "subjects = os.listdir(TestDataRootDir)\n",
    "for subject in subjects:\n",
    "    if not (subject == 'AllImages' or subject == 'AllMasks' or subject == 'AllOutputImages' or subject == 'AllOutputMasks'):\n",
    "        currentSubjectDir = TestDataRootDir + \"/\" + subject;\n",
    "        print(currentSubjectDir)\n",
    "\n",
    "        volume_dicoms = os.listdir(currentSubjectDir + '/Dicom/Vol/')\n",
    "        dataset_vol = [None] * (len(volume_dicoms))\n",
    "        for dicom in volume_dicoms:\n",
    "            slice_number = int(dicom.split('Slice')[1].split('.dcm')[0])\n",
    "            dataset_vol[slice_number-1] = pydicom.dcmread(currentSubjectDir+'/Dicom/Vol/'+dicom)\n",
    "\n",
    "        for i in range(1, len(dataset_vol)-1):\n",
    "            sliceRGB = np.zeros((dataset_vol[i].pixel_array.shape[0],dataset_vol[i].pixel_array.shape[1],3))\n",
    "            test_mask_result_path = os.path.join(CombinedTestOutputMaskDir,\"%d.png\"%currentImageIndex)\n",
    "            resultMaskIn = io.imread(test_mask_result_path,as_gray = False)\n",
    "            resultMaskScaled = resultMaskIn[:,:,1] / 255\n",
    "            resultMaskResized = trans.resize(resultMaskScaled,(512,512))\n",
    "            resultMask = resultMaskResized > 0.5\n",
    "            maskedSlice = dataset_vol[i].pixel_array * resultMask\n",
    "            maskedSlice = np.clip((maskedSlice - (level-window/2)) / window, 0,1) # Apply fat window/level and clip to 0->1 range\n",
    "            for x in range(0,512):\n",
    "                for y in range(0,512):\n",
    "                    maskedSlice[x,y] = (maskedSlice[x,y]>0) and (maskedSlice[x,y]<1)\n",
    "            maskedSlice = maskedSlice * ((2**bitDepth)-1) # Scale to bitdepth\n",
    "            maskedSlice = np.floor(maskedSlice) # Floor to integer\n",
    "            sliceRGB[:,:,0] = maskedSlice\n",
    "            sliceRGB[:,:,1] = maskedSlice\n",
    "            sliceRGB[:,:,2] = maskedSlice\n",
    "            matplotlib.image.imsave(os.path.join(CombinedTestOutputImageDir,\"%d.png\"%currentImageIndex), sliceRGB.astype(np.uint8))\n",
    "            currentImageIndex = currentImageIndex + 1"
   ]
  },
  {
   "cell_type": "markdown",
   "metadata": {},
   "source": [
    "Apply Original Fat Masks and Isolate Fat by HU\n",
    "----"
   ]
  },
  {
   "cell_type": "code",
   "execution_count": 6,
   "metadata": {},
   "outputs": [
    {
     "name": "stdout",
     "output_type": "stream",
     "text": [
      "../Test Data/SA218\n",
      "../Test Data/SA221\n",
      "../Test Data/SA219\n",
      "../Test Data/SA222\n"
     ]
    }
   ],
   "source": [
    "CombinedTestImageDir = TestDataRootDir + '/AllImages'\n",
    "CombinedTestMaskDir = TestDataRootDir + '/AllMasks'\n",
    "CombinedTestOutputMaskDir = TestDataRootDir + '/AllOutputMasks'\n",
    "CombinedTestOutputImageDir = TestDataRootDir + '/AllOutputImages'\n",
    "CombinedTestReferenceImageDir = TestDataRootDir + '/AllReferenceImages'\n",
    "CombinedTestOutputCombinedImageDir = TestDataRootDir + '/AllCombinedResultImages'\n",
    "os.makedirs(CombinedTestOutputImageDir, exist_ok=True)\n",
    "os.makedirs(CombinedTestReferenceImageDir, exist_ok=True)\n",
    "os.makedirs(CombinedTestOutputCombinedImageDir, exist_ok=True)\n",
    "\n",
    "\n",
    "window = 350 # Window/Level from Hoori et al (\"HU-attention-window with a window/level of 350/40 HU\")\n",
    "level = 40\n",
    "# fat\n",
    "fatWindow = 80 \n",
    "fatLevel = -110\n",
    "\n",
    "currentImageIndex = 0\n",
    "subjects = os.listdir(TestDataRootDir)\n",
    "subjectVoxelCountsReference = []\n",
    "subjectVoxelCountsResults = []\n",
    "\n",
    "for subject in subjects:\n",
    "    if not (subject == 'AllImages' or subject == 'AllMasks' or subject == 'AllOutputImages' or subject == 'AllOutputMasks' or subject == 'AllReferenceImages' or subject == 'AllCombinedResultImages'):\n",
    "        currentSubjectDir = TestDataRootDir + \"/\" + subject\n",
    "        print(currentSubjectDir)\n",
    "        subjectVoxelCountReference = 0\n",
    "        subjectVoxelCountResults = 0\n",
    "\n",
    "        volume_dicoms = os.listdir(currentSubjectDir + '/Dicom/Vol/')\n",
    "        dataset_vol = [None] * (len(volume_dicoms))\n",
    "        for dicom in volume_dicoms:\n",
    "            slice_number = int(dicom.split('Slice')[1].split('.dcm')[0])\n",
    "            dataset_vol[slice_number-1] = pydicom.dcmread(currentSubjectDir+'/Dicom/Vol/'+dicom)\n",
    "\n",
    "        for i in range(1, len(dataset_vol)-1):\n",
    "            sliceRGB = np.zeros((dataset_vol[i].pixel_array.shape[0],dataset_vol[i].pixel_array.shape[1],3))\n",
    "            originalInput = dataset_vol[i].pixel_array\n",
    "            windowLeveledOriginalInput = np.clip((originalInput - (level-window/2)) / window, 0,1) # Apply fat window/level and clip to 0->1 range\n",
    "            windowLeveledOriginalInput = windowLeveledOriginalInput * ((2**bitDepth)-1) # Scale to bitdepth\n",
    "            windowLeveledOriginalInput = np.floor(windowLeveledOriginalInput) # Floor to integer\n",
    "\n",
    "            test_mask_input_path = os.path.join(CombinedTestMaskDir,\"%d.png\"%currentImageIndex)\n",
    "            MaskIn_input = io.imread(test_mask_input_path,as_gray = False)\n",
    "            MaskScaled_input = MaskIn_input[:,:,1] / 255\n",
    "            MaskResized_input = trans.resize(MaskScaled_input,(512,512))\n",
    "            Mask_input = MaskResized_input > 0.5\n",
    "            maskedSlice_input = originalInput * Mask_input\n",
    "            maskedSlice_input = np.clip((maskedSlice_input - (fatLevel-fatWindow/2)) / fatWindow, 0,1) # Apply fat window/level and clip to 0->1 range\n",
    "\n",
    "\n",
    "            test_mask_result_path = os.path.join(CombinedTestOutputMaskDir,\"%d.png\"%currentImageIndex)\n",
    "            MaskIn_result = io.imread(test_mask_result_path,as_gray = False)\n",
    "            MaskScaled_result = MaskIn_result[:,:,1] / 255\n",
    "            MaskResized_result = trans.resize(MaskScaled_result,(512,512))\n",
    "            Mask_result = MaskResized_result > 0.5\n",
    "            maskedSlice_result = originalInput * Mask_result\n",
    "            maskedSlice_result = np.clip((maskedSlice_result - (fatLevel-fatWindow/2)) / fatWindow, 0,1) # Apply fat window/level and clip to 0->1 range\n",
    "\n",
    "            for x in range(0,512):\n",
    "                for y in range(0,512):\n",
    "                    maskedSlice_input[x,y] = (maskedSlice_input[x,y]>0) and (maskedSlice_input[x,y]<1)\n",
    "                    maskedSlice_result[x,y] = (maskedSlice_result[x,y]>0) and (maskedSlice_result[x,y]<1)\n",
    "\n",
    "            subjectVoxelCountReference = subjectVoxelCountReference + np.count_nonzero(maskedSlice_input)\n",
    "            maskedSlice_input_scaled = maskedSlice_input * ((2**bitDepth)-1) # Scale to bitdepth\n",
    "            maskedSlice_input_scaled = np.floor(maskedSlice_input_scaled) # Floor to integer\n",
    "\n",
    "            subjectVoxelCountResults = subjectVoxelCountResults + np.count_nonzero(maskedSlice_result)\n",
    "            maskedSlice_result_scaled = maskedSlice_result * ((2**bitDepth)-1) # Scale to bitdepth\n",
    "            maskedSlice_result_scaled = np.floor(maskedSlice_result_scaled) # Floor to integer\n",
    "\n",
    "            # Save original fat mask\n",
    "            sliceRGB[:,:,0] = (windowLeveledOriginalInput * 0.5) + (0.5 * maskedSlice_input_scaled)\n",
    "            sliceRGB[:,:,1] = (windowLeveledOriginalInput * 0.5) \n",
    "            sliceRGB[:,:,2] = (windowLeveledOriginalInput * 0.5) \n",
    "            matplotlib.image.imsave(os.path.join(CombinedTestReferenceImageDir,\"%d.png\"%currentImageIndex), sliceRGB.astype(np.uint8))\n",
    "\n",
    "            # Save AI fat mask\n",
    "            sliceRGB[:,:,0] = (windowLeveledOriginalInput * 0.5) \n",
    "            sliceRGB[:,:,1] = (windowLeveledOriginalInput * 0.5) \n",
    "            sliceRGB[:,:,2] = (windowLeveledOriginalInput * 0.5) + (0.5 * maskedSlice_result_scaled)\n",
    "            matplotlib.image.imsave(os.path.join(CombinedTestOutputImageDir,\"%d.png\"%currentImageIndex), sliceRGB.astype(np.uint8))\n",
    "\n",
    "            # Save Combined fat mask\n",
    "            sliceRGB[:,:,0] = (windowLeveledOriginalInput * 0.5) + (0.5 * maskedSlice_input_scaled)\n",
    "            sliceRGB[:,:,1] = (windowLeveledOriginalInput * 0.5) \n",
    "            sliceRGB[:,:,2] = (windowLeveledOriginalInput * 0.5) + (0.5 * maskedSlice_result_scaled)\n",
    "            matplotlib.image.imsave(os.path.join(CombinedTestOutputCombinedImageDir,\"%d.png\"%currentImageIndex), sliceRGB.astype(np.uint8))\n",
    "\n",
    "            currentImageIndex = currentImageIndex + 1\n",
    "        subjectVoxelCountsReference.append(subjectVoxelCountReference)\n",
    "        subjectVoxelCountsResults.append(subjectVoxelCountResults)\n"
   ]
  },
  {
   "cell_type": "code",
   "execution_count": 7,
   "metadata": {},
   "outputs": [
    {
     "data": {
      "text/plain": [
       "114303"
      ]
     },
     "execution_count": 7,
     "metadata": {},
     "output_type": "execute_result"
    }
   ],
   "source": [
    "subjectVoxelCountsResults[0]"
   ]
  },
  {
   "cell_type": "code",
   "execution_count": 8,
   "metadata": {},
   "outputs": [
    {
     "data": {
      "text/plain": [
       "107373"
      ]
     },
     "execution_count": 8,
     "metadata": {},
     "output_type": "execute_result"
    }
   ],
   "source": [
    "subjectVoxelCountsReference[0]"
   ]
  },
  {
   "cell_type": "code",
   "execution_count": null,
   "metadata": {},
   "outputs": [],
   "source": [
    "\n"
   ]
  },
  {
   "cell_type": "code",
   "execution_count": 12,
   "metadata": {},
   "outputs": [
    {
     "ename": "IndexError",
     "evalue": "list assignment index out of range",
     "output_type": "error",
     "traceback": [
      "\u001b[0;31m---------------------------------------------------------------------------\u001b[0m",
      "\u001b[0;31mIndexError\u001b[0m                                Traceback (most recent call last)",
      "\u001b[1;32m/workspaces/461-EAT-Project/Code/Postprocessing.ipynb Cell 14'\u001b[0m in \u001b[0;36m<module>\u001b[0;34m\u001b[0m\n\u001b[1;32m      <a href='vscode-notebook-cell://dev-container%2B2f686f6d652f646f6d696e697175656672616e736f6e2f4465736b746f702f3436312d4541542d50726f6a656374/workspaces/461-EAT-Project/Code/Postprocessing.ipynb#ch0000013vscode-remote?line=3'>4</a>\u001b[0m EATPercentError \u001b[39m=\u001b[39m []\n\u001b[1;32m      <a href='vscode-notebook-cell://dev-container%2B2f686f6d652f646f6d696e697175656672616e736f6e2f4465736b746f702f3436312d4541542d50726f6a656374/workspaces/461-EAT-Project/Code/Postprocessing.ipynb#ch0000013vscode-remote?line=4'>5</a>\u001b[0m \u001b[39mfor\u001b[39;00m subjectNumber \u001b[39min\u001b[39;00m \u001b[39mrange\u001b[39m(\u001b[39m0\u001b[39m,\u001b[39mlen\u001b[39m(subjectVoxelCountsResults)):\n\u001b[0;32m----> <a href='vscode-notebook-cell://dev-container%2B2f686f6d652f646f6d696e697175656672616e736f6e2f4465736b746f702f3436312d4541542d50726f6a656374/workspaces/461-EAT-Project/Code/Postprocessing.ipynb#ch0000013vscode-remote?line=5'>6</a>\u001b[0m     totalEATVolumeReference[subjectNumber] \u001b[39m=\u001b[39m subjectVoxelCountsReference[subjectNumber]\u001b[39m*\u001b[39m\u001b[39m2.5\u001b[39m\u001b[39m*\u001b[39m\u001b[39m0.8671875\u001b[39m\u001b[39m*\u001b[39m\u001b[39m0.8671875\u001b[39m\n\u001b[1;32m      <a href='vscode-notebook-cell://dev-container%2B2f686f6d652f646f6d696e697175656672616e736f6e2f4465736b746f702f3436312d4541542d50726f6a656374/workspaces/461-EAT-Project/Code/Postprocessing.ipynb#ch0000013vscode-remote?line=6'>7</a>\u001b[0m     totalEATVolumeResult[subjectNumber] \u001b[39m=\u001b[39m subjectVoxelCountsResults[subjectNumber]\u001b[39m*\u001b[39m\u001b[39m2.5\u001b[39m\u001b[39m*\u001b[39m\u001b[39m0.8671875\u001b[39m\u001b[39m*\u001b[39m\u001b[39m0.8671875\u001b[39m\n\u001b[1;32m      <a href='vscode-notebook-cell://dev-container%2B2f686f6d652f646f6d696e697175656672616e736f6e2f4465736b746f702f3436312d4541542d50726f6a656374/workspaces/461-EAT-Project/Code/Postprocessing.ipynb#ch0000013vscode-remote?line=7'>8</a>\u001b[0m     EATVolumeError[subjectNumber] \u001b[39m=\u001b[39m np\u001b[39m.\u001b[39mabs(totalEATVolumeReference[subjectNumber] \u001b[39m-\u001b[39m totalEATVolumeResult[subjectNumber])\n",
      "\u001b[0;31mIndexError\u001b[0m: list assignment index out of range"
     ]
    }
   ],
   "source": [
    "totalEATVolumeReference = []\n",
    "totalEATVolumeResult = []\n",
    "EATVolumeError = []\n",
    "EATPercentError = []\n",
    "for subjectNumber in range(0,len(subjectVoxelCountsResults)):\n",
    "    totalEATVolumeReference.append(subjectVoxelCountsReference[subjectNumber]*2.5*0.8671875*0.8671875)\n",
    "    totalEATVolumeResult.append(subjectVoxelCountsResults[subjectNumber]*2.5*0.8671875*0.8671875)\n",
    "    EATVolumeError.append(np.abs(totalEATVolumeReference[subjectNumber] - totalEATVolumeResult[subjectNumber]))\n",
    "    EATPercentError.append(EATVolumeError[subjectNumber] / totalEATVolumeReference[subjectNumber])"
   ]
  },
  {
   "cell_type": "code",
   "execution_count": null,
   "metadata": {},
   "outputs": [],
   "source": []
  }
 ],
 "metadata": {
  "interpreter": {
   "hash": "4f946df053fbf2b937619d3c5458e7af74262f9a954d8797ba0b27400bcafe06"
  },
  "kernelspec": {
   "display_name": "Python 3",
   "language": "python",
   "name": "python3"
  },
  "language_info": {
   "codemirror_mode": {
    "name": "ipython",
    "version": 3
   },
   "file_extension": ".py",
   "mimetype": "text/x-python",
   "name": "python",
   "nbconvert_exporter": "python",
   "pygments_lexer": "ipython3",
   "version": "3.8.10"
  },
  "orig_nbformat": 4
 },
 "nbformat": 4,
 "nbformat_minor": 2
}
