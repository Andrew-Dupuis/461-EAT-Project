{
 "cells": [
  {
   "cell_type": "code",
   "execution_count": 21,
   "metadata": {},
   "outputs": [
    {
     "name": "stdout",
     "output_type": "stream",
     "text": [
      "Requirement already satisfied: pydicom in /usr/local/lib/python3.8/dist-packages (from -r requirements.txt (line 1)) (2.3.0)\n",
      "Requirement already satisfied: matplotlib in /usr/local/lib/python3.8/dist-packages (from -r requirements.txt (line 2)) (3.5.1)\n",
      "Requirement already satisfied: numpy in /usr/local/lib/python3.8/dist-packages (from -r requirements.txt (line 3)) (1.22.1)\n",
      "Requirement already satisfied: scikit-image in /usr/local/lib/python3.8/dist-packages (from -r requirements.txt (line 4)) (0.19.2)\n",
      "Requirement already satisfied: Tensorflow in /usr/local/lib/python3.8/dist-packages (from -r requirements.txt (line 5)) (2.7.1)\n",
      "Requirement already satisfied: pyparsing>=2.2.1 in /usr/local/lib/python3.8/dist-packages (from matplotlib->-r requirements.txt (line 2)) (3.0.7)\n",
      "Requirement already satisfied: packaging>=20.0 in /usr/local/lib/python3.8/dist-packages (from matplotlib->-r requirements.txt (line 2)) (21.3)\n",
      "Requirement already satisfied: python-dateutil>=2.7 in /usr/local/lib/python3.8/dist-packages (from matplotlib->-r requirements.txt (line 2)) (2.8.2)\n",
      "Requirement already satisfied: kiwisolver>=1.0.1 in /usr/local/lib/python3.8/dist-packages (from matplotlib->-r requirements.txt (line 2)) (1.3.2)\n",
      "Requirement already satisfied: cycler>=0.10 in /usr/local/lib/python3.8/dist-packages (from matplotlib->-r requirements.txt (line 2)) (0.11.0)\n",
      "Requirement already satisfied: pillow>=6.2.0 in /usr/local/lib/python3.8/dist-packages (from matplotlib->-r requirements.txt (line 2)) (9.0.0)\n",
      "Requirement already satisfied: fonttools>=4.22.0 in /usr/local/lib/python3.8/dist-packages (from matplotlib->-r requirements.txt (line 2)) (4.29.1)\n",
      "Requirement already satisfied: scipy>=1.4.1 in /usr/local/lib/python3.8/dist-packages (from scikit-image->-r requirements.txt (line 4)) (1.8.0)\n",
      "Requirement already satisfied: networkx>=2.2 in /usr/local/lib/python3.8/dist-packages (from scikit-image->-r requirements.txt (line 4)) (2.7.1)\n",
      "Requirement already satisfied: imageio>=2.4.1 in /usr/local/lib/python3.8/dist-packages (from scikit-image->-r requirements.txt (line 4)) (2.16.1)\n",
      "Requirement already satisfied: PyWavelets>=1.1.1 in /usr/local/lib/python3.8/dist-packages (from scikit-image->-r requirements.txt (line 4)) (1.3.0)\n",
      "Requirement already satisfied: tifffile>=2019.7.26 in /usr/local/lib/python3.8/dist-packages (from scikit-image->-r requirements.txt (line 4)) (2022.3.25)\n",
      "Requirement already satisfied: flatbuffers<3.0,>=1.12 in /usr/local/lib/python3.8/dist-packages (from Tensorflow->-r requirements.txt (line 5)) (2.0)\n",
      "Requirement already satisfied: typing-extensions>=3.6.6 in /usr/local/lib/python3.8/dist-packages (from Tensorflow->-r requirements.txt (line 5)) (4.0.1)\n",
      "Requirement already satisfied: opt-einsum>=2.3.2 in /usr/local/lib/python3.8/dist-packages (from Tensorflow->-r requirements.txt (line 5)) (3.3.0)\n",
      "Requirement already satisfied: protobuf>=3.9.2 in /usr/local/lib/python3.8/dist-packages (from Tensorflow->-r requirements.txt (line 5)) (3.19.4)\n",
      "Requirement already satisfied: tensorflow-io-gcs-filesystem>=0.21.0 in /usr/local/lib/python3.8/dist-packages (from Tensorflow->-r requirements.txt (line 5)) (0.23.1)\n",
      "Requirement already satisfied: astunparse>=1.6.0 in /usr/local/lib/python3.8/dist-packages (from Tensorflow->-r requirements.txt (line 5)) (1.6.3)\n",
      "Requirement already satisfied: tensorflow-estimator<2.8,~=2.7.0rc0 in /usr/local/lib/python3.8/dist-packages (from Tensorflow->-r requirements.txt (line 5)) (2.7.0)\n",
      "Requirement already satisfied: grpcio<2.0,>=1.24.3 in /usr/local/lib/python3.8/dist-packages (from Tensorflow->-r requirements.txt (line 5)) (1.43.0)\n",
      "Requirement already satisfied: wheel<1.0,>=0.32.0 in /usr/lib/python3/dist-packages (from Tensorflow->-r requirements.txt (line 5)) (0.34.2)\n",
      "Requirement already satisfied: tensorboard~=2.6 in /usr/local/lib/python3.8/dist-packages (from Tensorflow->-r requirements.txt (line 5)) (2.8.0)\n",
      "Requirement already satisfied: keras<2.8,>=2.7.0rc0 in /usr/local/lib/python3.8/dist-packages (from Tensorflow->-r requirements.txt (line 5)) (2.7.0)\n",
      "Requirement already satisfied: six>=1.12.0 in /usr/lib/python3/dist-packages (from Tensorflow->-r requirements.txt (line 5)) (1.14.0)\n",
      "Requirement already satisfied: libclang>=9.0.1 in /usr/local/lib/python3.8/dist-packages (from Tensorflow->-r requirements.txt (line 5)) (13.0.0)\n",
      "Requirement already satisfied: gast<0.5.0,>=0.2.1 in /usr/local/lib/python3.8/dist-packages (from Tensorflow->-r requirements.txt (line 5)) (0.4.0)\n",
      "Requirement already satisfied: wrapt>=1.11.0 in /usr/local/lib/python3.8/dist-packages (from Tensorflow->-r requirements.txt (line 5)) (1.13.3)\n",
      "Requirement already satisfied: keras-preprocessing>=1.1.1 in /usr/local/lib/python3.8/dist-packages (from Tensorflow->-r requirements.txt (line 5)) (1.1.2)\n",
      "Requirement already satisfied: termcolor>=1.1.0 in /usr/local/lib/python3.8/dist-packages (from Tensorflow->-r requirements.txt (line 5)) (1.1.0)\n",
      "Requirement already satisfied: google-pasta>=0.1.1 in /usr/local/lib/python3.8/dist-packages (from Tensorflow->-r requirements.txt (line 5)) (0.2.0)\n",
      "Requirement already satisfied: absl-py>=0.4.0 in /usr/local/lib/python3.8/dist-packages (from Tensorflow->-r requirements.txt (line 5)) (1.0.0)\n",
      "Requirement already satisfied: h5py>=2.9.0 in /usr/local/lib/python3.8/dist-packages (from Tensorflow->-r requirements.txt (line 5)) (3.6.0)\n",
      "Requirement already satisfied: google-auth<3,>=1.6.3 in /usr/local/lib/python3.8/dist-packages (from tensorboard~=2.6->Tensorflow->-r requirements.txt (line 5)) (2.6.0)\n",
      "Requirement already satisfied: tensorboard-data-server<0.7.0,>=0.6.0 in /usr/local/lib/python3.8/dist-packages (from tensorboard~=2.6->Tensorflow->-r requirements.txt (line 5)) (0.6.1)\n",
      "Requirement already satisfied: tensorboard-plugin-wit>=1.6.0 in /usr/local/lib/python3.8/dist-packages (from tensorboard~=2.6->Tensorflow->-r requirements.txt (line 5)) (1.8.1)\n",
      "Requirement already satisfied: google-auth-oauthlib<0.5,>=0.4.1 in /usr/local/lib/python3.8/dist-packages (from tensorboard~=2.6->Tensorflow->-r requirements.txt (line 5)) (0.4.6)\n",
      "Requirement already satisfied: requests<3,>=2.21.0 in /usr/lib/python3/dist-packages (from tensorboard~=2.6->Tensorflow->-r requirements.txt (line 5)) (2.22.0)\n",
      "Requirement already satisfied: setuptools>=41.0.0 in /usr/local/lib/python3.8/dist-packages (from tensorboard~=2.6->Tensorflow->-r requirements.txt (line 5)) (60.7.0)\n",
      "Requirement already satisfied: werkzeug>=0.11.15 in /usr/local/lib/python3.8/dist-packages (from tensorboard~=2.6->Tensorflow->-r requirements.txt (line 5)) (2.0.2)\n",
      "Requirement already satisfied: markdown>=2.6.8 in /usr/local/lib/python3.8/dist-packages (from tensorboard~=2.6->Tensorflow->-r requirements.txt (line 5)) (3.3.6)\n",
      "Requirement already satisfied: cachetools<6.0,>=2.0.0 in /usr/local/lib/python3.8/dist-packages (from google-auth<3,>=1.6.3->tensorboard~=2.6->Tensorflow->-r requirements.txt (line 5)) (5.0.0)\n",
      "Requirement already satisfied: rsa<5,>=3.1.4; python_version >= \"3.6\" in /usr/local/lib/python3.8/dist-packages (from google-auth<3,>=1.6.3->tensorboard~=2.6->Tensorflow->-r requirements.txt (line 5)) (4.8)\n",
      "Requirement already satisfied: pyasn1-modules>=0.2.1 in /usr/local/lib/python3.8/dist-packages (from google-auth<3,>=1.6.3->tensorboard~=2.6->Tensorflow->-r requirements.txt (line 5)) (0.2.8)\n",
      "Requirement already satisfied: requests-oauthlib>=0.7.0 in /usr/local/lib/python3.8/dist-packages (from google-auth-oauthlib<0.5,>=0.4.1->tensorboard~=2.6->Tensorflow->-r requirements.txt (line 5)) (1.3.1)\n",
      "Requirement already satisfied: importlib-metadata>=4.4; python_version < \"3.10\" in /usr/local/lib/python3.8/dist-packages (from markdown>=2.6.8->tensorboard~=2.6->Tensorflow->-r requirements.txt (line 5)) (4.10.1)\n",
      "Requirement already satisfied: pyasn1>=0.1.3 in /usr/local/lib/python3.8/dist-packages (from rsa<5,>=3.1.4; python_version >= \"3.6\"->google-auth<3,>=1.6.3->tensorboard~=2.6->Tensorflow->-r requirements.txt (line 5)) (0.4.8)\n",
      "Requirement already satisfied: oauthlib>=3.0.0 in /usr/local/lib/python3.8/dist-packages (from requests-oauthlib>=0.7.0->google-auth-oauthlib<0.5,>=0.4.1->tensorboard~=2.6->Tensorflow->-r requirements.txt (line 5)) (3.2.0)\n",
      "Requirement already satisfied: zipp>=0.5 in /usr/local/lib/python3.8/dist-packages (from importlib-metadata>=4.4; python_version < \"3.10\"->markdown>=2.6.8->tensorboard~=2.6->Tensorflow->-r requirements.txt (line 5)) (3.7.0)\n",
      "\u001b[33mWARNING: You are using pip version 20.2.4; however, version 22.0.4 is available.\n",
      "You should consider upgrading via the '/bin/python3 -m pip install --upgrade pip' command.\u001b[0m\n"
     ]
    }
   ],
   "source": [
    "import sys\n",
    "!{sys.executable} -m pip install -r requirements.txt"
   ]
  },
  {
   "cell_type": "code",
   "execution_count": 25,
   "metadata": {},
   "outputs": [],
   "source": [
    "from unet.model import *\n",
    "from unet.data import *"
   ]
  },
  {
   "cell_type": "markdown",
   "metadata": {},
   "source": [
    "Train Unet with EAT Data\n",
    "----"
   ]
  },
  {
   "cell_type": "markdown",
   "metadata": {},
   "source": [
    "### Train with data generator"
   ]
  },
  {
   "cell_type": "code",
   "execution_count": 28,
   "metadata": {},
   "outputs": [
    {
     "name": "stderr",
     "output_type": "stream",
     "text": [
      "<ipython-input-28-8ac4eb45eaed>:11: UserWarning: `Model.fit_generator` is deprecated and will be removed in a future version. Please use `Model.fit`, which supports generators.\n",
      "  model.fit_generator(generator,steps_per_epoch=90,epochs=5,callbacks=[model_checkpoint])\n"
     ]
    },
    {
     "name": "stdout",
     "output_type": "stream",
     "text": [
      "Found 710 images belonging to 1 classes.\n",
      "Found 710 images belonging to 1 classes.\n",
      "Epoch 1/5\n",
      "90/90 [==============================] - ETA: 0s - loss: 0.2927 - accuracy: 0.9518\n",
      "Epoch 00001: loss improved from inf to 0.29268, saving model to unet_EAT.hdf5\n",
      "90/90 [==============================] - 58s 559ms/step - loss: 0.2927 - accuracy: 0.9518\n",
      "Epoch 2/5\n",
      "90/90 [==============================] - ETA: 0s - loss: 0.0719 - accuracy: 0.9627\n",
      "Epoch 00002: loss improved from 0.29268 to 0.07193, saving model to unet_EAT.hdf5\n",
      "90/90 [==============================] - 46s 513ms/step - loss: 0.0719 - accuracy: 0.9627\n",
      "Epoch 3/5\n",
      "90/90 [==============================] - ETA: 0s - loss: 0.0545 - accuracy: 0.9630\n",
      "Epoch 00003: loss improved from 0.07193 to 0.05449, saving model to unet_EAT.hdf5\n",
      "90/90 [==============================] - 46s 510ms/step - loss: 0.0545 - accuracy: 0.9630\n",
      "Epoch 4/5\n",
      "90/90 [==============================] - ETA: 0s - loss: 0.0420 - accuracy: 0.9717\n",
      "Epoch 00004: loss improved from 0.05449 to 0.04204, saving model to unet_EAT.hdf5\n",
      "90/90 [==============================] - 46s 507ms/step - loss: 0.0420 - accuracy: 0.9717\n",
      "Epoch 5/5\n",
      "90/90 [==============================] - ETA: 0s - loss: 0.0281 - accuracy: 0.9868\n",
      "Epoch 00005: loss improved from 0.04204 to 0.02808, saving model to unet_EAT.hdf5\n",
      "90/90 [==============================] - 45s 504ms/step - loss: 0.0281 - accuracy: 0.9868\n"
     ]
    },
    {
     "data": {
      "text/plain": [
       "<keras.callbacks.History at 0x7f5aa0233190>"
      ]
     },
     "execution_count": 28,
     "metadata": {},
     "output_type": "execute_result"
    }
   ],
   "source": [
    "data_gen_args = dict(rotation_range=0.2,\n",
    "                     width_shift_range=0.05,\n",
    "                     height_shift_range=0.05,\n",
    "                     shear_range=0.05,\n",
    "                     zoom_range=0.05,\n",
    "                     horizontal_flip=True,\n",
    "                     fill_mode='nearest')\n",
    "generator = trainGenerator(8,'../Training Data','AllImages','AllMasks',data_gen_args,save_to_dir = None, image_color_mode = 'rgb')\n",
    "model = unet()\n",
    "model_checkpoint = ModelCheckpoint('unet_EAT.hdf5', monitor='loss',verbose=1, save_best_only=True)\n",
    "model.fit_generator(generator,steps_per_epoch=90,epochs=5,callbacks=[model_checkpoint])"
   ]
  },
  {
   "cell_type": "markdown",
   "metadata": {},
   "source": [
    "Test Model\n",
    "----"
   ]
  },
  {
   "cell_type": "code",
   "execution_count": 50,
   "metadata": {},
   "outputs": [
    {
     "name": "stderr",
     "output_type": "stream",
     "text": [
      "/usr/local/lib/python3.8/dist-packages/keras/optimizer_v2/adam.py:105: UserWarning: The `lr` argument is deprecated, use `learning_rate` instead.\n",
      "  super(Adam, self).__init__(name, **kwargs)\n",
      "<ipython-input-50-cc6db0cafe29>:24: UserWarning: `Model.predict_generator` is deprecated and will be removed in a future version. Please use `Model.predict`, which supports generators.\n",
      "  results = model.predict_generator(gen,verbose=1)\n"
     ]
    },
    {
     "name": "stdout",
     "output_type": "stream",
     "text": [
      "857/857 [==============================] - 54s 63ms/step\n"
     ]
    }
   ],
   "source": [
    "def generateTestsFromPath(test_path, target_size = (256,256)):\n",
    "    images = os.listdir(test_path)\n",
    "    for i in images:\n",
    "        img = io.imread(test_path +\"/\" +i, as_gray = False)\n",
    "        img = img / 255\n",
    "        img = trans.resize(img,(256,256))\n",
    "        img = img[:,:,0:3]\n",
    "        img = np.reshape(img,(1,)+img.shape)\n",
    "        yield img\n",
    "\n",
    "def saveResults(results,save_path):\n",
    "    shape = results.shape\n",
    "    for i in range(0,shape[0]):\n",
    "        result = results[i,:,:,0] * ((2**8)-1)\n",
    "        resultRGB = np.zeros((shape[1],shape[2],3))\n",
    "        resultRGB[:,:,0] = result\n",
    "        resultRGB[:,:,1] = result\n",
    "        resultRGB[:,:,2] = result\n",
    "        matplotlib.image.imsave(os.path.join(save_path,\"%d_predict.png\"%i), resultRGB.astype(np.uint8))\n",
    "\n",
    "gen = generateTestsFromPath(\"../Test Data/AllImages\")\n",
    "model = unet()\n",
    "model.load_weights(\"unet_EAT.hdf5\")\n",
    "results = model.predict_generator(gen,verbose=1)\n",
    "saveResults(results, \"../Test Data/AllMasks\")"
   ]
  },
  {
   "cell_type": "code",
   "execution_count": 49,
   "metadata": {},
   "outputs": [
    {
     "data": {
      "text/plain": [
       "(256, 256, 3)"
      ]
     },
     "execution_count": 49,
     "metadata": {},
     "output_type": "execute_result"
    }
   ],
   "source": [
    "shape = results.shape\n",
    "result = results[0,:,:,0] * ((2**8)-1)\n",
    "resultRGB = np.zeros((shape[1],shape[2],3))\n",
    "resultRGB[:,:,0] = result\n",
    "resultRGB[:,:,1] = result\n",
    "resultRGB[:,:,2] = result\n",
    "resultRGB.shape"
   ]
  },
  {
   "cell_type": "code",
   "execution_count": 33,
   "metadata": {},
   "outputs": [],
   "source": [
    "import matplotlib.pylab as plt\n",
    "import skimage.io as io\n",
    "\n",
    "model = unet()\n",
    "model.load_weights(\"unet_EAT.hdf5\")\n",
    "test_path = \"../Test Data/AllImages/15.png\"\n",
    "\n",
    "img = io.imread(test_path,as_gray = False)\n",
    "img = img / 255\n",
    "img = trans.resize(img,(256,256))\n",
    "img = img[:,:,0:3]\n",
    "img = np.reshape(img,(1,)+img.shape)\n",
    "result = model.predict(img)"
   ]
  },
  {
   "cell_type": "code",
   "execution_count": 32,
   "metadata": {},
   "outputs": [
    {
     "data": {
      "image/png": "[encoded data removed]",
      "text/plain": [
       "<Figure size 640x480 with 1 Axes>"
      ]
     },
     "metadata": {},
     "output_type": "display_data"
    }
   ],
   "source": [
    "plt.imshow(result[0,:,:,0])\n",
    "plt.show()"
   ]
  },
  {
   "cell_type": "code",
   "execution_count": null,
   "metadata": {},
   "outputs": [],
   "source": []
  }
 ],
 "metadata": {
  "kernelspec": {
   "display_name": "Python 3",
   "language": "python",
   "name": "python3"
  },
  "language_info": {
   "codemirror_mode": {
    "name": "ipython",
    "version": 3
   },
   "file_extension": ".py",
   "mimetype": "text/x-python",
   "name": "python",
   "nbconvert_exporter": "python",
   "pygments_lexer": "ipython3",
   "version": "3.8.10"
  }
 },
 "nbformat": 4,
 "nbformat_minor": 2
}
