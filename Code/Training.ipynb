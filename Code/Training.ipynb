{
 "cells": [
  {
   "cell_type": "code",
   "execution_count": 1,
   "metadata": {},
   "outputs": [
    {
     "name": "stdout",
     "output_type": "stream",
     "text": [
      "Requirement already satisfied: pydicom in /home/codespace/.local/lib/python3.8/site-packages (from -r requirements.txt (line 1)) (2.2.2)\n",
      "Requirement already satisfied: matplotlib in /home/codespace/.local/lib/python3.8/site-packages (from -r requirements.txt (line 2)) (3.5.1)\n",
      "Requirement already satisfied: numpy in /home/codespace/.local/lib/python3.8/site-packages (from -r requirements.txt (line 3)) (1.22.3)\n",
      "Requirement already satisfied: scikit-image in /home/codespace/.local/lib/python3.8/site-packages (from -r requirements.txt (line 4)) (0.19.2)\n",
      "Requirement already satisfied: Tensorflow in /home/codespace/.local/lib/python3.8/site-packages (from -r requirements.txt (line 5)) (2.8.0)\n",
      "Requirement already satisfied: packaging>=20.0 in /opt/python/3.8.12/lib/python3.8/site-packages (from matplotlib->-r requirements.txt (line 2)) (21.3)\n",
      "Requirement already satisfied: pillow>=6.2.0 in /home/codespace/.local/lib/python3.8/site-packages (from matplotlib->-r requirements.txt (line 2)) (9.0.1)\n",
      "Requirement already satisfied: cycler>=0.10 in /home/codespace/.local/lib/python3.8/site-packages (from matplotlib->-r requirements.txt (line 2)) (0.11.0)\n",
      "Requirement already satisfied: fonttools>=4.22.0 in /home/codespace/.local/lib/python3.8/site-packages (from matplotlib->-r requirements.txt (line 2)) (4.31.1)\n",
      "Requirement already satisfied: pyparsing>=2.2.1 in /opt/python/3.8.12/lib/python3.8/site-packages (from matplotlib->-r requirements.txt (line 2)) (3.0.7)\n",
      "Requirement already satisfied: python-dateutil>=2.7 in /opt/python/3.8.12/lib/python3.8/site-packages (from matplotlib->-r requirements.txt (line 2)) (2.8.2)\n",
      "Requirement already satisfied: kiwisolver>=1.0.1 in /home/codespace/.local/lib/python3.8/site-packages (from matplotlib->-r requirements.txt (line 2)) (1.4.0)\n",
      "Requirement already satisfied: scipy>=1.4.1 in /home/codespace/.local/lib/python3.8/site-packages (from scikit-image->-r requirements.txt (line 4)) (1.8.0)\n",
      "Requirement already satisfied: PyWavelets>=1.1.1 in /home/codespace/.local/lib/python3.8/site-packages (from scikit-image->-r requirements.txt (line 4)) (1.3.0)\n",
      "Requirement already satisfied: imageio>=2.4.1 in /home/codespace/.local/lib/python3.8/site-packages (from scikit-image->-r requirements.txt (line 4)) (2.16.1)\n",
      "Requirement already satisfied: networkx>=2.2 in /home/codespace/.local/lib/python3.8/site-packages (from scikit-image->-r requirements.txt (line 4)) (2.7.1)\n",
      "Requirement already satisfied: tifffile>=2019.7.26 in /home/codespace/.local/lib/python3.8/site-packages (from scikit-image->-r requirements.txt (line 4)) (2022.3.25)\n",
      "Requirement already satisfied: setuptools in /opt/python/3.8.12/lib/python3.8/site-packages (from Tensorflow->-r requirements.txt (line 5)) (58.2.0)\n",
      "Requirement already satisfied: opt-einsum>=2.3.2 in /home/codespace/.local/lib/python3.8/site-packages (from Tensorflow->-r requirements.txt (line 5)) (3.3.0)\n",
      "Requirement already satisfied: tensorflow-io-gcs-filesystem>=0.23.1 in /home/codespace/.local/lib/python3.8/site-packages (from Tensorflow->-r requirements.txt (line 5)) (0.24.0)\n",
      "Requirement already satisfied: flatbuffers>=1.12 in /home/codespace/.local/lib/python3.8/site-packages (from Tensorflow->-r requirements.txt (line 5)) (2.0)\n",
      "Requirement already satisfied: astunparse>=1.6.0 in /home/codespace/.local/lib/python3.8/site-packages (from Tensorflow->-r requirements.txt (line 5)) (1.6.3)\n",
      "Requirement already satisfied: keras<2.9,>=2.8.0rc0 in /home/codespace/.local/lib/python3.8/site-packages (from Tensorflow->-r requirements.txt (line 5)) (2.8.0)\n",
      "Requirement already satisfied: absl-py>=0.4.0 in /home/codespace/.local/lib/python3.8/site-packages (from Tensorflow->-r requirements.txt (line 5)) (1.0.0)\n",
      "Requirement already satisfied: keras-preprocessing>=1.1.1 in /home/codespace/.local/lib/python3.8/site-packages (from Tensorflow->-r requirements.txt (line 5)) (1.1.2)\n",
      "Requirement already satisfied: libclang>=9.0.1 in /home/codespace/.local/lib/python3.8/site-packages (from Tensorflow->-r requirements.txt (line 5)) (13.0.0)\n",
      "Requirement already satisfied: h5py>=2.9.0 in /home/codespace/.local/lib/python3.8/site-packages (from Tensorflow->-r requirements.txt (line 5)) (3.6.0)\n",
      "Requirement already satisfied: termcolor>=1.1.0 in /home/codespace/.local/lib/python3.8/site-packages (from Tensorflow->-r requirements.txt (line 5)) (1.1.0)\n",
      "Requirement already satisfied: protobuf>=3.9.2 in /home/codespace/.local/lib/python3.8/site-packages (from Tensorflow->-r requirements.txt (line 5)) (3.19.4)\n",
      "Requirement already satisfied: grpcio<2.0,>=1.24.3 in /home/codespace/.local/lib/python3.8/site-packages (from Tensorflow->-r requirements.txt (line 5)) (1.44.0)\n",
      "Requirement already satisfied: gast>=0.2.1 in /home/codespace/.local/lib/python3.8/site-packages (from Tensorflow->-r requirements.txt (line 5)) (0.5.3)\n",
      "Requirement already satisfied: wrapt>=1.11.0 in /home/codespace/.local/lib/python3.8/site-packages (from Tensorflow->-r requirements.txt (line 5)) (1.14.0)\n",
      "Requirement already satisfied: tf-estimator-nightly==2.8.0.dev2021122109 in /home/codespace/.local/lib/python3.8/site-packages (from Tensorflow->-r requirements.txt (line 5)) (2.8.0.dev2021122109)\n",
      "Requirement already satisfied: google-pasta>=0.1.1 in /home/codespace/.local/lib/python3.8/site-packages (from Tensorflow->-r requirements.txt (line 5)) (0.2.0)\n",
      "Requirement already satisfied: tensorboard<2.9,>=2.8 in /home/codespace/.local/lib/python3.8/site-packages (from Tensorflow->-r requirements.txt (line 5)) (2.8.0)\n",
      "Requirement already satisfied: six>=1.12.0 in /opt/python/3.8.12/lib/python3.8/site-packages (from Tensorflow->-r requirements.txt (line 5)) (1.16.0)\n",
      "Requirement already satisfied: typing-extensions>=3.6.6 in /home/codespace/.local/lib/python3.8/site-packages (from Tensorflow->-r requirements.txt (line 5)) (4.1.1)\n",
      "Requirement already satisfied: wheel<1.0,>=0.23.0 in /opt/python/3.8.12/lib/python3.8/site-packages (from astunparse>=1.6.0->Tensorflow->-r requirements.txt (line 5)) (0.37.0)\n",
      "Requirement already satisfied: tensorboard-data-server<0.7.0,>=0.6.0 in /home/codespace/.local/lib/python3.8/site-packages (from tensorboard<2.9,>=2.8->Tensorflow->-r requirements.txt (line 5)) (0.6.1)\n",
      "Requirement already satisfied: google-auth<3,>=1.6.3 in /home/codespace/.local/lib/python3.8/site-packages (from tensorboard<2.9,>=2.8->Tensorflow->-r requirements.txt (line 5)) (2.6.2)\n",
      "Requirement already satisfied: google-auth-oauthlib<0.5,>=0.4.1 in /home/codespace/.local/lib/python3.8/site-packages (from tensorboard<2.9,>=2.8->Tensorflow->-r requirements.txt (line 5)) (0.4.6)\n",
      "Requirement already satisfied: tensorboard-plugin-wit>=1.6.0 in /home/codespace/.local/lib/python3.8/site-packages (from tensorboard<2.9,>=2.8->Tensorflow->-r requirements.txt (line 5)) (1.8.1)\n",
      "Requirement already satisfied: requests<3,>=2.21.0 in /opt/python/3.8.12/lib/python3.8/site-packages (from tensorboard<2.9,>=2.8->Tensorflow->-r requirements.txt (line 5)) (2.27.1)\n",
      "Requirement already satisfied: markdown>=2.6.8 in /home/codespace/.local/lib/python3.8/site-packages (from tensorboard<2.9,>=2.8->Tensorflow->-r requirements.txt (line 5)) (3.3.6)\n",
      "Requirement already satisfied: werkzeug>=0.11.15 in /home/codespace/.local/lib/python3.8/site-packages (from tensorboard<2.9,>=2.8->Tensorflow->-r requirements.txt (line 5)) (2.1.0)\n",
      "Requirement already satisfied: rsa<5,>=3.1.4 in /home/codespace/.local/lib/python3.8/site-packages (from google-auth<3,>=1.6.3->tensorboard<2.9,>=2.8->Tensorflow->-r requirements.txt (line 5)) (4.8)\n",
      "Requirement already satisfied: pyasn1-modules>=0.2.1 in /home/codespace/.local/lib/python3.8/site-packages (from google-auth<3,>=1.6.3->tensorboard<2.9,>=2.8->Tensorflow->-r requirements.txt (line 5)) (0.2.8)\n",
      "Requirement already satisfied: cachetools<6.0,>=2.0.0 in /home/codespace/.local/lib/python3.8/site-packages (from google-auth<3,>=1.6.3->tensorboard<2.9,>=2.8->Tensorflow->-r requirements.txt (line 5)) (5.0.0)\n",
      "Requirement already satisfied: requests-oauthlib>=0.7.0 in /home/codespace/.local/lib/python3.8/site-packages (from google-auth-oauthlib<0.5,>=0.4.1->tensorboard<2.9,>=2.8->Tensorflow->-r requirements.txt (line 5)) (1.3.1)\n",
      "Requirement already satisfied: importlib-metadata>=4.4 in /home/codespace/.local/lib/python3.8/site-packages (from markdown>=2.6.8->tensorboard<2.9,>=2.8->Tensorflow->-r requirements.txt (line 5)) (4.11.3)\n",
      "Requirement already satisfied: certifi>=2017.4.17 in /opt/python/3.8.12/lib/python3.8/site-packages (from requests<3,>=2.21.0->tensorboard<2.9,>=2.8->Tensorflow->-r requirements.txt (line 5)) (2021.10.8)\n",
      "Requirement already satisfied: charset-normalizer~=2.0.0 in /opt/python/3.8.12/lib/python3.8/site-packages (from requests<3,>=2.21.0->tensorboard<2.9,>=2.8->Tensorflow->-r requirements.txt (line 5)) (2.0.12)\n",
      "Requirement already satisfied: idna<4,>=2.5 in /opt/python/3.8.12/lib/python3.8/site-packages (from requests<3,>=2.21.0->tensorboard<2.9,>=2.8->Tensorflow->-r requirements.txt (line 5)) (3.3)\n",
      "Requirement already satisfied: urllib3<1.27,>=1.21.1 in /opt/python/3.8.12/lib/python3.8/site-packages (from requests<3,>=2.21.0->tensorboard<2.9,>=2.8->Tensorflow->-r requirements.txt (line 5)) (1.26.9)\n",
      "Requirement already satisfied: zipp>=0.5 in /opt/python/3.8.12/lib/python3.8/site-packages (from importlib-metadata>=4.4->markdown>=2.6.8->tensorboard<2.9,>=2.8->Tensorflow->-r requirements.txt (line 5)) (3.7.0)\n",
      "Requirement already satisfied: pyasn1<0.5.0,>=0.4.6 in /home/codespace/.local/lib/python3.8/site-packages (from pyasn1-modules>=0.2.1->google-auth<3,>=1.6.3->tensorboard<2.9,>=2.8->Tensorflow->-r requirements.txt (line 5)) (0.4.8)\n",
      "Requirement already satisfied: oauthlib>=3.0.0 in /home/codespace/.local/lib/python3.8/site-packages (from requests-oauthlib>=0.7.0->google-auth-oauthlib<0.5,>=0.4.1->tensorboard<2.9,>=2.8->Tensorflow->-r requirements.txt (line 5)) (3.2.0)\n",
      "\u001b[33mWARNING: You are using pip version 22.0.3; however, version 22.0.4 is available.\n",
      "You should consider upgrading via the '/opt/python/latest/bin/python -m pip install --upgrade pip' command.\u001b[0m\u001b[33m\n",
      "\u001b[0m"
     ]
    }
   ],
   "source": [
    "import sys\n",
    "!{sys.executable} -m pip install -r requirements.txt"
   ]
  },
  {
   "cell_type": "code",
   "execution_count": 2,
   "metadata": {},
   "outputs": [
    {
     "name": "stderr",
     "output_type": "stream",
     "text": [
      "2022-03-29 17:57:48.983931: W tensorflow/stream_executor/platform/default/dso_loader.cc:64] Could not load dynamic library 'libcudart.so.11.0'; dlerror: libcudart.so.11.0: cannot open shared object file: No such file or directory\n",
      "2022-03-29 17:57:48.983967: I tensorflow/stream_executor/cuda/cudart_stub.cc:29] Ignore above cudart dlerror if you do not have a GPU set up on your machine.\n"
     ]
    }
   ],
   "source": [
    "from unet.model import *\n",
    "from unet.data import *"
   ]
  },
  {
   "cell_type": "markdown",
   "metadata": {},
   "source": [
    "Train Unet with EAT Data\n",
    "----"
   ]
  },
  {
   "cell_type": "markdown",
   "metadata": {},
   "source": [
    "### Train with data generator"
   ]
  },
  {
   "cell_type": "code",
   "execution_count": 3,
   "metadata": {},
   "outputs": [
    {
     "name": "stderr",
     "output_type": "stream",
     "text": [
      "2022-03-29 17:57:52.111565: W tensorflow/stream_executor/platform/default/dso_loader.cc:64] Could not load dynamic library 'libcuda.so.1'; dlerror: libcuda.so.1: cannot open shared object file: No such file or directory\n",
      "2022-03-29 17:57:52.111625: W tensorflow/stream_executor/cuda/cuda_driver.cc:269] failed call to cuInit: UNKNOWN ERROR (303)\n",
      "2022-03-29 17:57:52.111651: I tensorflow/stream_executor/cuda/cuda_diagnostics.cc:156] kernel driver does not appear to be running on this host (codespaces_f2103f): /proc/driver/nvidia/version does not exist\n",
      "2022-03-29 17:57:52.111984: I tensorflow/core/platform/cpu_feature_guard.cc:151] This TensorFlow binary is optimized with oneAPI Deep Neural Network Library (oneDNN) to use the following CPU instructions in performance-critical operations:  AVX2 AVX512F FMA\n",
      "To enable them in other operations, rebuild TensorFlow with the appropriate compiler flags.\n",
      "/home/codespace/.local/lib/python3.8/site-packages/keras/optimizer_v2/adam.py:105: UserWarning: The `lr` argument is deprecated, use `learning_rate` instead.\n",
      "  super(Adam, self).__init__(name, **kwargs)\n",
      "/tmp/ipykernel_15652/884524398.py:11: UserWarning: `Model.fit_generator` is deprecated and will be removed in a future version. Please use `Model.fit`, which supports generators.\n",
      "  model.fit_generator(generator,steps_per_epoch=2000,epochs=5,callbacks=[model_checkpoint])\n"
     ]
    },
    {
     "name": "stdout",
     "output_type": "stream",
     "text": [
      "Found 118 images belonging to 1 classes.\n",
      "Found 118 images belonging to 1 classes.\n",
      "Epoch 1/5\n"
     ]
    },
    {
     "name": "stderr",
     "output_type": "stream",
     "text": [
      "2022-03-29 17:57:55.676315: W tensorflow/core/framework/cpu_allocator_impl.cc:82] Allocation of 301989888 exceeds 10% of free system memory.\n",
      "2022-03-29 17:57:55.676400: W tensorflow/core/framework/cpu_allocator_impl.cc:82] Allocation of 301989888 exceeds 10% of free system memory.\n"
     ]
    },
    {
     "name": "stdout",
     "output_type": "stream",
     "text": [
      "   1/2000 [..............................] - ETA: 2:49:36 - loss: 0.7077 - accuracy: 0.0808"
     ]
    },
    {
     "name": "stderr",
     "output_type": "stream",
     "text": [
      "2022-03-29 17:57:59.150289: W tensorflow/core/framework/cpu_allocator_impl.cc:82] Allocation of 301989888 exceeds 10% of free system memory.\n",
      "2022-03-29 17:57:59.151743: W tensorflow/core/framework/cpu_allocator_impl.cc:82] Allocation of 301989888 exceeds 10% of free system memory.\n"
     ]
    },
    {
     "name": "stdout",
     "output_type": "stream",
     "text": [
      "   2/2000 [..............................] - ETA: 2:01:46 - loss: 0.7005 - accuracy: 0.5001"
     ]
    },
    {
     "name": "stderr",
     "output_type": "stream",
     "text": [
      "2022-03-29 17:58:02.808581: W tensorflow/core/framework/cpu_allocator_impl.cc:82] Allocation of 301989888 exceeds 10% of free system memory.\n"
     ]
    },
    {
     "name": "stdout",
     "output_type": "stream",
     "text": [
      "  11/2000 [..............................] - ETA: 1:53:10 - loss: 0.6943 - accuracy: 0.8757"
     ]
    }
   ],
   "source": [
    "data_gen_args = dict(rotation_range=0.2,\n",
    "                     width_shift_range=0.05,\n",
    "                     height_shift_range=0.05,\n",
    "                     shear_range=0.05,\n",
    "                     zoom_range=0.05,\n",
    "                     horizontal_flip=True,\n",
    "                     fill_mode='nearest')\n",
    "generator = trainGenerator(1,'../Training Data','AllImages','AllMasks',data_gen_args,save_to_dir = None)\n",
    "model = unet()\n",
    "model_checkpoint = ModelCheckpoint('unet_EAT.hdf5', monitor='loss',verbose=1, save_best_only=True)\n",
    "model.fit_generator(generator,steps_per_epoch=2000,epochs=5,callbacks=[model_checkpoint])"
   ]
  },
  {
   "cell_type": "markdown",
   "metadata": {},
   "source": [
    "Test Model\n",
    "----"
   ]
  },
  {
   "cell_type": "code",
   "execution_count": 3,
   "metadata": {},
   "outputs": [
    {
     "name": "stderr",
     "output_type": "stream",
     "text": [
      "C:\\Users\\xuhaozhi\\Documents\\Study\\unet\\model.py:34: UserWarning: The `merge` function is deprecated and will be removed after 08/2017. Use instead layers from `keras.layers.merge`, e.g. `add`, `concatenate`, etc.\n",
      "  merge6 = merge([drop4,up6], mode = 'concat', concat_axis = 3)\n",
      "C:\\SoftWare\\Anaconda2\\envs\\python3\\lib\\site-packages\\keras\\legacy\\layers.py:465: UserWarning: The `Merge` layer is deprecated and will be removed after 08/2017. Use instead layers from `keras.layers.merge`, e.g. `add`, `concatenate`, etc.\n",
      "  name=name)\n",
      "C:\\Users\\xuhaozhi\\Documents\\Study\\unet\\model.py:39: UserWarning: The `merge` function is deprecated and will be removed after 08/2017. Use instead layers from `keras.layers.merge`, e.g. `add`, `concatenate`, etc.\n",
      "  merge7 = merge([conv3,up7], mode = 'concat', concat_axis = 3)\n",
      "C:\\Users\\xuhaozhi\\Documents\\Study\\unet\\model.py:44: UserWarning: The `merge` function is deprecated and will be removed after 08/2017. Use instead layers from `keras.layers.merge`, e.g. `add`, `concatenate`, etc.\n",
      "  merge8 = merge([conv2,up8], mode = 'concat', concat_axis = 3)\n",
      "C:\\Users\\xuhaozhi\\Documents\\Study\\unet\\model.py:49: UserWarning: The `merge` function is deprecated and will be removed after 08/2017. Use instead layers from `keras.layers.merge`, e.g. `add`, `concatenate`, etc.\n",
      "  merge9 = merge([conv1,up9], mode = 'concat', concat_axis = 3)\n",
      "C:\\Users\\xuhaozhi\\Documents\\Study\\unet\\model.py:55: UserWarning: Update your `Model` call to the Keras 2 API: `Model(inputs=Tensor(\"in..., outputs=Tensor(\"co...)`\n",
      "  model = Model(input = inputs, output = conv10)\n"
     ]
    },
    {
     "name": "stdout",
     "output_type": "stream",
     "text": [
      "\r\n",
      " 1/30 [>.............................] - ETA: 4s"
     ]
    },
    {
     "name": "stderr",
     "output_type": "stream",
     "text": [
      "C:\\SoftWare\\Anaconda2\\envs\\python3\\lib\\site-packages\\skimage\\transform\\_warps.py:105: UserWarning: The default mode, 'constant', will be changed to 'reflect' in skimage 0.15.\n",
      "  warn(\"The default mode, 'constant', will be changed to 'reflect' in \"\n",
      "C:\\SoftWare\\Anaconda2\\envs\\python3\\lib\\site-packages\\skimage\\transform\\_warps.py:110: UserWarning: Anti-aliasing will be enabled by default in skimage 0.15 to avoid aliasing artifacts when down-sampling images.\n",
      "  warn(\"Anti-aliasing will be enabled by default in skimage 0.15 to \"\n"
     ]
    },
    {
     "name": "stdout",
     "output_type": "stream",
     "text": [
      "30/30 [==============================] - 1s 47ms/step\n"
     ]
    },
    {
     "name": "stderr",
     "output_type": "stream",
     "text": [
      "C:\\SoftWare\\Anaconda2\\envs\\python3\\lib\\site-packages\\skimage\\util\\dtype.py:130: UserWarning: Possible precision loss when converting from float32 to uint16\n",
      "  .format(dtypeobj_in, dtypeobj_out))\n"
     ]
    }
   ],
   "source": [
    "testGenerator = testGenerator(\"TestData/AllImages\")\n",
    "model = unet()\n",
    "model.load_weights(\"unet_EAT.hdf5\")\n",
    "results = model.predict_generator(testGenerator,30,verbose=1)\n",
    "saveResult(\"TestData/AllMasks\",results)"
   ]
  }
 ],
 "metadata": {
  "kernelspec": {
   "display_name": "Python 3",
   "language": "python",
   "name": "python3"
  },
  "language_info": {
   "codemirror_mode": {
    "name": "ipython",
    "version": 3
   },
   "file_extension": ".py",
   "mimetype": "text/x-python",
   "name": "python",
   "nbconvert_exporter": "python",
   "pygments_lexer": "ipython3",
   "version": "3.8.12"
  }
 },
 "nbformat": 4,
 "nbformat_minor": 2
}
