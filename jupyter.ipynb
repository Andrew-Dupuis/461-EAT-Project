{
 "cells": [
  {
   "cell_type": "code",
   "execution_count": null,
   "metadata": {},
   "outputs": [
    {
     "ename": "",
     "evalue": "",
     "output_type": "error",
     "traceback": [
      "\u001b[1;31mThe kernel failed to start due to the missing module 'ipykernel_launcher'. Consider installing this module. \n",
      "View Jupyter <a href='command:jupyter.viewOutput'>log</a> for further details.\n",
      "<a href='https://aka.ms/kernelFailuresMissingModule'>Learn more</a>"
     ]
    }
   ],
   "source": [
    "import pydicom as dicom\n",
    "import matplotlib.pylab as plt\n",
    "\n",
    "# specify your image path\n",
    "image_path = 'Test Data/CA002/Dicom/Sac/Test_Subject_002_SAC_Slice1.dcm'\n",
    "ds = dicom.dcmread(image_path)\n",
    "\n",
    "plt.imshow(ds.pixel_array)"
   ]
  }
 ],
 "metadata": {
  "kernelspec": {
   "display_name": "Python 3 (ipykernel)",
   "language": "python",
   "name": "python3"
  },
  "orig_nbformat": 4
 },
 "nbformat": 4,
 "nbformat_minor": 2
}
